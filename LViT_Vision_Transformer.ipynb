{
  "nbformat": 4,
  "nbformat_minor": 0,
  "metadata": {
    "colab": {
      "provenance": [],
      "include_colab_link": true
    },
    "kernelspec": {
      "name": "python3",
      "display_name": "Python 3"
    },
    "accelerator": "GPU"
  },
  "cells": [
    {
      "cell_type": "markdown",
      "metadata": {
        "id": "view-in-github",
        "colab_type": "text"
      },
      "source": [
        "<a href=\"https://colab.research.google.com/github/haseebkhan9081/LViT_Vision_Transformer/blob/main/LViT_Vision_Transformer.ipynb\" target=\"_parent\"><img src=\"https://colab.research.google.com/assets/colab-badge.svg\" alt=\"Open In Colab\"/></a>"
      ]
    },
    {
      "cell_type": "code",
      "metadata": {
        "id": "zVL3DmL6GgiS",
        "colab": {
          "base_uri": "https://localhost:8080/"
        },
        "outputId": "6ebb0c4c-29de-41c1-c180-3a286bbee92b"
      },
      "source": [
        "from google.colab import drive\n",
        "drive.mount('/content/drive')\n"
      ],
      "execution_count": 2,
      "outputs": [
        {
          "output_type": "stream",
          "name": "stdout",
          "text": [
            "Mounted at /content/drive\n"
          ]
        }
      ]
    },
    {
      "cell_type": "code",
      "metadata": {
        "id": "UiEhAldfHcwG"
      },
      "source": [
        "import numpy as np\n",
        "import pandas as pd\n",
        "import matplotlib.pyplot as plt\n",
        "import cv2\n",
        "import tensorflow as tf\n",
        "from PIL import Image\n",
        "import os\n",
        "#os.chdir('D:/Traffic_Sign_Recognition')\n",
        "from sklearn.model_selection import train_test_split\n",
        "#from keras.utils import to_categorical\n",
        "from keras.models import Sequential, load_model\n",
        "from keras.layers import Conv2D, MaxPool2D, Dense, Flatten, Dropout\n"
      ],
      "execution_count": 3,
      "outputs": []
    },
    {
      "cell_type": "code",
      "source": [
        "pip install tensorflow==2.13.0\n"
      ],
      "metadata": {
        "id": "POneEaYhXqJU",
        "colab": {
          "base_uri": "https://localhost:8080/",
          "height": 1000
        },
        "outputId": "3611c285-cedc-4a65-e73f-45cacd4d1d0f"
      },
      "execution_count": 6,
      "outputs": [
        {
          "output_type": "stream",
          "name": "stdout",
          "text": [
            "Collecting tensorflow==2.13.0\n",
            "  Downloading tensorflow-2.13.0-cp310-cp310-manylinux_2_17_x86_64.manylinux2014_x86_64.whl.metadata (3.4 kB)\n",
            "Requirement already satisfied: absl-py>=1.0.0 in /usr/local/lib/python3.10/dist-packages (from tensorflow==2.13.0) (1.4.0)\n",
            "Requirement already satisfied: astunparse>=1.6.0 in /usr/local/lib/python3.10/dist-packages (from tensorflow==2.13.0) (1.6.3)\n",
            "Requirement already satisfied: flatbuffers>=23.1.21 in /usr/local/lib/python3.10/dist-packages (from tensorflow==2.13.0) (24.3.25)\n",
            "Collecting gast<=0.4.0,>=0.2.1 (from tensorflow==2.13.0)\n",
            "  Downloading gast-0.4.0-py3-none-any.whl.metadata (1.1 kB)\n",
            "Requirement already satisfied: google-pasta>=0.1.1 in /usr/local/lib/python3.10/dist-packages (from tensorflow==2.13.0) (0.2.0)\n",
            "Requirement already satisfied: grpcio<2.0,>=1.24.3 in /usr/local/lib/python3.10/dist-packages (from tensorflow==2.13.0) (1.67.1)\n",
            "Requirement already satisfied: h5py>=2.9.0 in /usr/local/lib/python3.10/dist-packages (from tensorflow==2.13.0) (3.12.1)\n",
            "Collecting keras<2.14,>=2.13.1 (from tensorflow==2.13.0)\n",
            "  Downloading keras-2.13.1-py3-none-any.whl.metadata (2.4 kB)\n",
            "Requirement already satisfied: libclang>=13.0.0 in /usr/local/lib/python3.10/dist-packages (from tensorflow==2.13.0) (18.1.1)\n",
            "Collecting numpy<=1.24.3,>=1.22 (from tensorflow==2.13.0)\n",
            "  Downloading numpy-1.24.3-cp310-cp310-manylinux_2_17_x86_64.manylinux2014_x86_64.whl.metadata (5.6 kB)\n",
            "Requirement already satisfied: opt-einsum>=2.3.2 in /usr/local/lib/python3.10/dist-packages (from tensorflow==2.13.0) (3.4.0)\n",
            "Requirement already satisfied: packaging in /usr/local/lib/python3.10/dist-packages (from tensorflow==2.13.0) (24.2)\n",
            "Requirement already satisfied: protobuf!=4.21.0,!=4.21.1,!=4.21.2,!=4.21.3,!=4.21.4,!=4.21.5,<5.0.0dev,>=3.20.3 in /usr/local/lib/python3.10/dist-packages (from tensorflow==2.13.0) (4.25.5)\n",
            "Requirement already satisfied: setuptools in /usr/local/lib/python3.10/dist-packages (from tensorflow==2.13.0) (75.1.0)\n",
            "Requirement already satisfied: six>=1.12.0 in /usr/local/lib/python3.10/dist-packages (from tensorflow==2.13.0) (1.16.0)\n",
            "Collecting tensorboard<2.14,>=2.13 (from tensorflow==2.13.0)\n",
            "  Downloading tensorboard-2.13.0-py3-none-any.whl.metadata (1.8 kB)\n",
            "Collecting tensorflow-estimator<2.14,>=2.13.0 (from tensorflow==2.13.0)\n",
            "  Downloading tensorflow_estimator-2.13.0-py2.py3-none-any.whl.metadata (1.3 kB)\n",
            "Requirement already satisfied: termcolor>=1.1.0 in /usr/local/lib/python3.10/dist-packages (from tensorflow==2.13.0) (2.5.0)\n",
            "Collecting typing-extensions<4.6.0,>=3.6.6 (from tensorflow==2.13.0)\n",
            "  Downloading typing_extensions-4.5.0-py3-none-any.whl.metadata (8.5 kB)\n",
            "Requirement already satisfied: wrapt>=1.11.0 in /usr/local/lib/python3.10/dist-packages (from tensorflow==2.13.0) (1.16.0)\n",
            "Requirement already satisfied: tensorflow-io-gcs-filesystem>=0.23.1 in /usr/local/lib/python3.10/dist-packages (from tensorflow==2.13.0) (0.37.1)\n",
            "Requirement already satisfied: wheel<1.0,>=0.23.0 in /usr/local/lib/python3.10/dist-packages (from astunparse>=1.6.0->tensorflow==2.13.0) (0.44.0)\n",
            "Requirement already satisfied: google-auth<3,>=1.6.3 in /usr/local/lib/python3.10/dist-packages (from tensorboard<2.14,>=2.13->tensorflow==2.13.0) (2.27.0)\n",
            "Collecting google-auth-oauthlib<1.1,>=0.5 (from tensorboard<2.14,>=2.13->tensorflow==2.13.0)\n",
            "  Downloading google_auth_oauthlib-1.0.0-py2.py3-none-any.whl.metadata (2.7 kB)\n",
            "Requirement already satisfied: markdown>=2.6.8 in /usr/local/lib/python3.10/dist-packages (from tensorboard<2.14,>=2.13->tensorflow==2.13.0) (3.7)\n",
            "Requirement already satisfied: requests<3,>=2.21.0 in /usr/local/lib/python3.10/dist-packages (from tensorboard<2.14,>=2.13->tensorflow==2.13.0) (2.32.3)\n",
            "Requirement already satisfied: tensorboard-data-server<0.8.0,>=0.7.0 in /usr/local/lib/python3.10/dist-packages (from tensorboard<2.14,>=2.13->tensorflow==2.13.0) (0.7.2)\n",
            "Requirement already satisfied: werkzeug>=1.0.1 in /usr/local/lib/python3.10/dist-packages (from tensorboard<2.14,>=2.13->tensorflow==2.13.0) (3.1.3)\n",
            "Requirement already satisfied: cachetools<6.0,>=2.0.0 in /usr/local/lib/python3.10/dist-packages (from google-auth<3,>=1.6.3->tensorboard<2.14,>=2.13->tensorflow==2.13.0) (5.5.0)\n",
            "Requirement already satisfied: pyasn1-modules>=0.2.1 in /usr/local/lib/python3.10/dist-packages (from google-auth<3,>=1.6.3->tensorboard<2.14,>=2.13->tensorflow==2.13.0) (0.4.1)\n",
            "Requirement already satisfied: rsa<5,>=3.1.4 in /usr/local/lib/python3.10/dist-packages (from google-auth<3,>=1.6.3->tensorboard<2.14,>=2.13->tensorflow==2.13.0) (4.9)\n",
            "Requirement already satisfied: requests-oauthlib>=0.7.0 in /usr/local/lib/python3.10/dist-packages (from google-auth-oauthlib<1.1,>=0.5->tensorboard<2.14,>=2.13->tensorflow==2.13.0) (1.3.1)\n",
            "Requirement already satisfied: charset-normalizer<4,>=2 in /usr/local/lib/python3.10/dist-packages (from requests<3,>=2.21.0->tensorboard<2.14,>=2.13->tensorflow==2.13.0) (3.4.0)\n",
            "Requirement already satisfied: idna<4,>=2.5 in /usr/local/lib/python3.10/dist-packages (from requests<3,>=2.21.0->tensorboard<2.14,>=2.13->tensorflow==2.13.0) (3.10)\n",
            "Requirement already satisfied: urllib3<3,>=1.21.1 in /usr/local/lib/python3.10/dist-packages (from requests<3,>=2.21.0->tensorboard<2.14,>=2.13->tensorflow==2.13.0) (2.2.3)\n",
            "Requirement already satisfied: certifi>=2017.4.17 in /usr/local/lib/python3.10/dist-packages (from requests<3,>=2.21.0->tensorboard<2.14,>=2.13->tensorflow==2.13.0) (2024.8.30)\n",
            "Requirement already satisfied: MarkupSafe>=2.1.1 in /usr/local/lib/python3.10/dist-packages (from werkzeug>=1.0.1->tensorboard<2.14,>=2.13->tensorflow==2.13.0) (3.0.2)\n",
            "Requirement already satisfied: pyasn1<0.7.0,>=0.4.6 in /usr/local/lib/python3.10/dist-packages (from pyasn1-modules>=0.2.1->google-auth<3,>=1.6.3->tensorboard<2.14,>=2.13->tensorflow==2.13.0) (0.6.1)\n",
            "Requirement already satisfied: oauthlib>=3.0.0 in /usr/local/lib/python3.10/dist-packages (from requests-oauthlib>=0.7.0->google-auth-oauthlib<1.1,>=0.5->tensorboard<2.14,>=2.13->tensorflow==2.13.0) (3.2.2)\n",
            "Downloading tensorflow-2.13.0-cp310-cp310-manylinux_2_17_x86_64.manylinux2014_x86_64.whl (524.1 MB)\n",
            "\u001b[2K   \u001b[90m━━━━━━━━━━━━━━━━━━━━━━━━━━━━━━━━━━━━━━━━\u001b[0m \u001b[32m524.1/524.1 MB\u001b[0m \u001b[31m3.5 MB/s\u001b[0m eta \u001b[36m0:00:00\u001b[0m\n",
            "\u001b[?25hDownloading gast-0.4.0-py3-none-any.whl (9.8 kB)\n",
            "Downloading keras-2.13.1-py3-none-any.whl (1.7 MB)\n",
            "\u001b[2K   \u001b[90m━━━━━━━━━━━━━━━━━━━━━━━━━━━━━━━━━━━━━━━━\u001b[0m \u001b[32m1.7/1.7 MB\u001b[0m \u001b[31m25.4 MB/s\u001b[0m eta \u001b[36m0:00:00\u001b[0m\n",
            "\u001b[?25hDownloading numpy-1.24.3-cp310-cp310-manylinux_2_17_x86_64.manylinux2014_x86_64.whl (17.3 MB)\n",
            "\u001b[2K   \u001b[90m━━━━━━━━━━━━━━━━━━━━━━━━━━━━━━━━━━━━━━━━\u001b[0m \u001b[32m17.3/17.3 MB\u001b[0m \u001b[31m28.2 MB/s\u001b[0m eta \u001b[36m0:00:00\u001b[0m\n",
            "\u001b[?25hDownloading tensorboard-2.13.0-py3-none-any.whl (5.6 MB)\n",
            "\u001b[2K   \u001b[90m━━━━━━━━━━━━━━━━━━━━━━━━━━━━━━━━━━━━━━━━\u001b[0m \u001b[32m5.6/5.6 MB\u001b[0m \u001b[31m51.7 MB/s\u001b[0m eta \u001b[36m0:00:00\u001b[0m\n",
            "\u001b[?25hDownloading tensorflow_estimator-2.13.0-py2.py3-none-any.whl (440 kB)\n",
            "\u001b[2K   \u001b[90m━━━━━━━━━━━━━━━━━━━━━━━━━━━━━━━━━━━━━━━━\u001b[0m \u001b[32m440.8/440.8 kB\u001b[0m \u001b[31m20.1 MB/s\u001b[0m eta \u001b[36m0:00:00\u001b[0m\n",
            "\u001b[?25hDownloading typing_extensions-4.5.0-py3-none-any.whl (27 kB)\n",
            "Downloading google_auth_oauthlib-1.0.0-py2.py3-none-any.whl (18 kB)\n",
            "Installing collected packages: typing-extensions, tensorflow-estimator, numpy, keras, gast, google-auth-oauthlib, tensorboard, tensorflow\n",
            "  Attempting uninstall: typing-extensions\n",
            "    Found existing installation: typing_extensions 4.12.2\n",
            "    Uninstalling typing_extensions-4.12.2:\n",
            "      Successfully uninstalled typing_extensions-4.12.2\n",
            "  Attempting uninstall: numpy\n",
            "    Found existing installation: numpy 1.26.4\n",
            "    Uninstalling numpy-1.26.4:\n",
            "      Successfully uninstalled numpy-1.26.4\n",
            "  Attempting uninstall: keras\n",
            "    Found existing installation: keras 3.4.1\n",
            "    Uninstalling keras-3.4.1:\n",
            "      Successfully uninstalled keras-3.4.1\n",
            "  Attempting uninstall: gast\n",
            "    Found existing installation: gast 0.6.0\n",
            "    Uninstalling gast-0.6.0:\n",
            "      Successfully uninstalled gast-0.6.0\n",
            "  Attempting uninstall: google-auth-oauthlib\n",
            "    Found existing installation: google-auth-oauthlib 1.2.1\n",
            "    Uninstalling google-auth-oauthlib-1.2.1:\n",
            "      Successfully uninstalled google-auth-oauthlib-1.2.1\n",
            "  Attempting uninstall: tensorboard\n",
            "    Found existing installation: tensorboard 2.17.0\n",
            "    Uninstalling tensorboard-2.17.0:\n",
            "      Successfully uninstalled tensorboard-2.17.0\n",
            "  Attempting uninstall: tensorflow\n",
            "    Found existing installation: tensorflow 2.17.0\n",
            "    Uninstalling tensorflow-2.17.0:\n",
            "      Successfully uninstalled tensorflow-2.17.0\n",
            "\u001b[31mERROR: pip's dependency resolver does not currently take into account all the packages that are installed. This behaviour is the source of the following dependency conflicts.\n",
            "sqlalchemy 2.0.36 requires typing-extensions>=4.6.0, but you have typing-extensions 4.5.0 which is incompatible.\n",
            "albucore 0.0.19 requires numpy>=1.24.4, but you have numpy 1.24.3 which is incompatible.\n",
            "albumentations 1.4.20 requires numpy>=1.24.4, but you have numpy 1.24.3 which is incompatible.\n",
            "langchain-core 0.3.15 requires typing-extensions>=4.7, but you have typing-extensions 4.5.0 which is incompatible.\n",
            "nibabel 5.3.2 requires typing-extensions>=4.6; python_version < \"3.13\", but you have typing-extensions 4.5.0 which is incompatible.\n",
            "openai 1.54.3 requires typing-extensions<5,>=4.11, but you have typing-extensions 4.5.0 which is incompatible.\n",
            "pydantic 2.9.2 requires typing-extensions>=4.6.1; python_version < \"3.13\", but you have typing-extensions 4.5.0 which is incompatible.\n",
            "pydantic-core 2.23.4 requires typing-extensions!=4.7.0,>=4.6.0, but you have typing-extensions 4.5.0 which is incompatible.\n",
            "tf-keras 2.17.0 requires tensorflow<2.18,>=2.17, but you have tensorflow 2.13.0 which is incompatible.\n",
            "torch 2.5.0+cu121 requires typing-extensions>=4.8.0, but you have typing-extensions 4.5.0 which is incompatible.\u001b[0m\u001b[31m\n",
            "\u001b[0mSuccessfully installed gast-0.4.0 google-auth-oauthlib-1.0.0 keras-2.13.1 numpy-1.24.3 tensorboard-2.13.0 tensorflow-2.13.0 tensorflow-estimator-2.13.0 typing-extensions-4.5.0\n"
          ]
        },
        {
          "output_type": "display_data",
          "data": {
            "application/vnd.colab-display-data+json": {
              "pip_warning": {
                "packages": [
                  "gast",
                  "keras",
                  "numpy",
                  "tensorflow"
                ]
              },
              "id": "5caf015ed59d456cb81b103e16a4f7c6"
            }
          },
          "metadata": {}
        }
      ]
    },
    {
      "cell_type": "code",
      "source": [
        "import numpy as np\n",
        "import tensorflow as tf\n",
        "from tensorflow import keras\n",
        "from tensorflow.keras import layers\n",
        "import tensorflow_addons as tfa"
      ],
      "metadata": {
        "id": "B0Qh6cdRXmBV",
        "colab": {
          "base_uri": "https://localhost:8080/",
          "height": 809
        },
        "outputId": "e818d362-3a5f-45dd-c28b-b8ebaeda499e"
      },
      "execution_count": 5,
      "outputs": [
        {
          "output_type": "stream",
          "name": "stderr",
          "text": [
            "/usr/local/lib/python3.10/dist-packages/tensorflow_addons/utils/tfa_eol_msg.py:23: UserWarning: \n",
            "\n",
            "TensorFlow Addons (TFA) has ended development and introduction of new features.\n",
            "TFA has entered a minimal maintenance and release mode until a planned end of life in May 2024.\n",
            "Please modify downstream libraries to take dependencies from other repositories in our TensorFlow community (e.g. Keras, Keras-CV, and Keras-NLP). \n",
            "\n",
            "For more information see: https://github.com/tensorflow/addons/issues/2807 \n",
            "\n",
            "  warnings.warn(\n",
            "/usr/local/lib/python3.10/dist-packages/tensorflow_addons/utils/ensure_tf_install.py:53: UserWarning: Tensorflow Addons supports using Python ops for all Tensorflow versions above or equal to 2.13.0 and strictly below 2.16.0 (nightly versions are not supported). \n",
            " The versions of TensorFlow you are currently using is 2.17.0 and is not supported. \n",
            "Some things might work, some things might not.\n",
            "If you were to encounter a bug, do not file an issue.\n",
            "If you want to make sure you're using a tested and supported configuration, either change the TensorFlow version or the TensorFlow Addons's version. \n",
            "You can find the compatibility matrix in TensorFlow Addon's readme:\n",
            "https://github.com/tensorflow/addons\n",
            "  warnings.warn(\n"
          ]
        },
        {
          "output_type": "error",
          "ename": "ModuleNotFoundError",
          "evalue": "No module named 'keras.src.engine'",
          "traceback": [
            "\u001b[0;31m---------------------------------------------------------------------------\u001b[0m",
            "\u001b[0;31mModuleNotFoundError\u001b[0m                       Traceback (most recent call last)",
            "\u001b[0;32m<ipython-input-5-4515fe31348e>\u001b[0m in \u001b[0;36m<cell line: 5>\u001b[0;34m()\u001b[0m\n\u001b[1;32m      3\u001b[0m \u001b[0;32mfrom\u001b[0m \u001b[0mtensorflow\u001b[0m \u001b[0;32mimport\u001b[0m \u001b[0mkeras\u001b[0m\u001b[0;34m\u001b[0m\u001b[0;34m\u001b[0m\u001b[0m\n\u001b[1;32m      4\u001b[0m \u001b[0;32mfrom\u001b[0m \u001b[0mtensorflow\u001b[0m\u001b[0;34m.\u001b[0m\u001b[0mkeras\u001b[0m \u001b[0;32mimport\u001b[0m \u001b[0mlayers\u001b[0m\u001b[0;34m\u001b[0m\u001b[0;34m\u001b[0m\u001b[0m\n\u001b[0;32m----> 5\u001b[0;31m \u001b[0;32mimport\u001b[0m \u001b[0mtensorflow_addons\u001b[0m \u001b[0;32mas\u001b[0m \u001b[0mtfa\u001b[0m\u001b[0;34m\u001b[0m\u001b[0;34m\u001b[0m\u001b[0m\n\u001b[0m",
            "\u001b[0;32m/usr/local/lib/python3.10/dist-packages/tensorflow_addons/__init__.py\u001b[0m in \u001b[0;36m<module>\u001b[0;34m\u001b[0m\n\u001b[1;32m     21\u001b[0m \u001b[0;34m\u001b[0m\u001b[0m\n\u001b[1;32m     22\u001b[0m \u001b[0;31m# Local project imports\u001b[0m\u001b[0;34m\u001b[0m\u001b[0;34m\u001b[0m\u001b[0m\n\u001b[0;32m---> 23\u001b[0;31m \u001b[0;32mfrom\u001b[0m \u001b[0mtensorflow_addons\u001b[0m \u001b[0;32mimport\u001b[0m \u001b[0mactivations\u001b[0m\u001b[0;34m\u001b[0m\u001b[0;34m\u001b[0m\u001b[0m\n\u001b[0m\u001b[1;32m     24\u001b[0m \u001b[0;32mfrom\u001b[0m \u001b[0mtensorflow_addons\u001b[0m \u001b[0;32mimport\u001b[0m \u001b[0mcallbacks\u001b[0m\u001b[0;34m\u001b[0m\u001b[0;34m\u001b[0m\u001b[0m\n\u001b[1;32m     25\u001b[0m \u001b[0;32mfrom\u001b[0m \u001b[0mtensorflow_addons\u001b[0m \u001b[0;32mimport\u001b[0m \u001b[0mimage\u001b[0m\u001b[0;34m\u001b[0m\u001b[0;34m\u001b[0m\u001b[0m\n",
            "\u001b[0;32m/usr/local/lib/python3.10/dist-packages/tensorflow_addons/activations/__init__.py\u001b[0m in \u001b[0;36m<module>\u001b[0;34m\u001b[0m\n\u001b[1;32m     15\u001b[0m \u001b[0;34m\"\"\"Additional activation functions.\"\"\"\u001b[0m\u001b[0;34m\u001b[0m\u001b[0;34m\u001b[0m\u001b[0m\n\u001b[1;32m     16\u001b[0m \u001b[0;34m\u001b[0m\u001b[0m\n\u001b[0;32m---> 17\u001b[0;31m \u001b[0;32mfrom\u001b[0m \u001b[0mtensorflow_addons\u001b[0m\u001b[0;34m.\u001b[0m\u001b[0mactivations\u001b[0m\u001b[0;34m.\u001b[0m\u001b[0mgelu\u001b[0m \u001b[0;32mimport\u001b[0m \u001b[0mgelu\u001b[0m\u001b[0;34m\u001b[0m\u001b[0;34m\u001b[0m\u001b[0m\n\u001b[0m\u001b[1;32m     18\u001b[0m \u001b[0;32mfrom\u001b[0m \u001b[0mtensorflow_addons\u001b[0m\u001b[0;34m.\u001b[0m\u001b[0mactivations\u001b[0m\u001b[0;34m.\u001b[0m\u001b[0mhardshrink\u001b[0m \u001b[0;32mimport\u001b[0m \u001b[0mhardshrink\u001b[0m\u001b[0;34m\u001b[0m\u001b[0;34m\u001b[0m\u001b[0m\n\u001b[1;32m     19\u001b[0m \u001b[0;32mfrom\u001b[0m \u001b[0mtensorflow_addons\u001b[0m\u001b[0;34m.\u001b[0m\u001b[0mactivations\u001b[0m\u001b[0;34m.\u001b[0m\u001b[0mlisht\u001b[0m \u001b[0;32mimport\u001b[0m \u001b[0mlisht\u001b[0m\u001b[0;34m\u001b[0m\u001b[0;34m\u001b[0m\u001b[0m\n",
            "\u001b[0;32m/usr/local/lib/python3.10/dist-packages/tensorflow_addons/activations/gelu.py\u001b[0m in \u001b[0;36m<module>\u001b[0;34m\u001b[0m\n\u001b[1;32m     17\u001b[0m \u001b[0;32mimport\u001b[0m \u001b[0mwarnings\u001b[0m\u001b[0;34m\u001b[0m\u001b[0;34m\u001b[0m\u001b[0m\n\u001b[1;32m     18\u001b[0m \u001b[0;34m\u001b[0m\u001b[0m\n\u001b[0;32m---> 19\u001b[0;31m \u001b[0;32mfrom\u001b[0m \u001b[0mtensorflow_addons\u001b[0m\u001b[0;34m.\u001b[0m\u001b[0mutils\u001b[0m\u001b[0;34m.\u001b[0m\u001b[0mtypes\u001b[0m \u001b[0;32mimport\u001b[0m \u001b[0mTensorLike\u001b[0m\u001b[0;34m\u001b[0m\u001b[0;34m\u001b[0m\u001b[0m\n\u001b[0m\u001b[1;32m     20\u001b[0m \u001b[0;34m\u001b[0m\u001b[0m\n\u001b[1;32m     21\u001b[0m \u001b[0;34m\u001b[0m\u001b[0m\n",
            "\u001b[0;32m/usr/local/lib/python3.10/dist-packages/tensorflow_addons/utils/types.py\u001b[0m in \u001b[0;36m<module>\u001b[0;34m\u001b[0m\n\u001b[1;32m     27\u001b[0m     \u001b[0;31m# New versions of Keras require importing from `keras.src` when\u001b[0m\u001b[0;34m\u001b[0m\u001b[0;34m\u001b[0m\u001b[0m\n\u001b[1;32m     28\u001b[0m     \u001b[0;31m# importing internal symbols.\u001b[0m\u001b[0;34m\u001b[0m\u001b[0;34m\u001b[0m\u001b[0m\n\u001b[0;32m---> 29\u001b[0;31m     \u001b[0;32mfrom\u001b[0m \u001b[0mkeras\u001b[0m\u001b[0;34m.\u001b[0m\u001b[0msrc\u001b[0m\u001b[0;34m.\u001b[0m\u001b[0mengine\u001b[0m \u001b[0;32mimport\u001b[0m \u001b[0mkeras_tensor\u001b[0m\u001b[0;34m\u001b[0m\u001b[0;34m\u001b[0m\u001b[0m\n\u001b[0m\u001b[1;32m     30\u001b[0m \u001b[0;32melif\u001b[0m \u001b[0mVersion\u001b[0m\u001b[0;34m(\u001b[0m\u001b[0mtf\u001b[0m\u001b[0;34m.\u001b[0m\u001b[0m__version__\u001b[0m\u001b[0;34m)\u001b[0m\u001b[0;34m.\u001b[0m\u001b[0mrelease\u001b[0m \u001b[0;34m>=\u001b[0m \u001b[0mVersion\u001b[0m\u001b[0;34m(\u001b[0m\u001b[0;34m\"2.5\"\u001b[0m\u001b[0;34m)\u001b[0m\u001b[0;34m.\u001b[0m\u001b[0mrelease\u001b[0m\u001b[0;34m:\u001b[0m\u001b[0;34m\u001b[0m\u001b[0;34m\u001b[0m\u001b[0m\n\u001b[1;32m     31\u001b[0m     \u001b[0;32mfrom\u001b[0m \u001b[0mkeras\u001b[0m\u001b[0;34m.\u001b[0m\u001b[0mengine\u001b[0m \u001b[0;32mimport\u001b[0m \u001b[0mkeras_tensor\u001b[0m\u001b[0;34m\u001b[0m\u001b[0;34m\u001b[0m\u001b[0m\n",
            "\u001b[0;31mModuleNotFoundError\u001b[0m: No module named 'keras.src.engine'",
            "",
            "\u001b[0;31m---------------------------------------------------------------------------\u001b[0;32m\nNOTE: If your import is failing due to a missing package, you can\nmanually install dependencies using either !pip or !apt.\n\nTo view examples of installing some common dependencies, click the\n\"Open Examples\" button below.\n\u001b[0;31m---------------------------------------------------------------------------\u001b[0m\n"
          ],
          "errorDetails": {
            "actions": [
              {
                "action": "open_url",
                "actionText": "Open Examples",
                "url": "/notebooks/snippets/importing_libraries.ipynb"
              }
            ]
          }
        }
      ]
    },
    {
      "cell_type": "code",
      "metadata": {
        "id": "bgWuaf01I0po"
      },
      "source": [
        "data = []\n",
        "labels = []\n",
        "# We have 43 Classes\n",
        "# classes = ['Bengincases', 'Malignantcases', 'Normalcases']\n",
        "classes = 3\n",
        "cur_path = '/content/drive/MyDrive/Sem7/ResearchPaper'\n"
      ],
      "execution_count": null,
      "outputs": []
    },
    {
      "cell_type": "code",
      "metadata": {
        "id": "lbpyFEAUI4nX",
        "colab": {
          "base_uri": "https://localhost:8080/",
          "height": 36
        },
        "outputId": "2f39113b-c6c8-4418-c22b-c7ea83a1c51b"
      },
      "source": [
        "cur_path"
      ],
      "execution_count": null,
      "outputs": [
        {
          "output_type": "execute_result",
          "data": {
            "text/plain": [
              "'/content/drive/MyDrive/Sem7/ResearchPaper'"
            ],
            "application/vnd.google.colaboratory.intrinsic+json": {
              "type": "string"
            }
          },
          "metadata": {},
          "execution_count": 6
        }
      ]
    },
    {
      "cell_type": "code",
      "source": [
        "# 0 benign cancer images\n",
        "# 1 malignant cancer images\n",
        "# 2 normal images\n",
        "\n",
        "for i in range(classes):\n",
        "    path = os.path.join(cur_path,'train',str(i))\n",
        "    print(path)\n",
        "    images = os.listdir(path)\n",
        "    for a in images:\n",
        "        try:\n",
        "            image = Image.open(path + '/'+ a)\n",
        "            image = image.resize((30,30))\n",
        "            image = np.array(image)\n",
        "            data.append(image)\n",
        "            labels.append(i)\n",
        "        except Exception as e:\n",
        "            print(e)"
      ],
      "metadata": {
        "id": "7JY2tnE4NlIm",
        "colab": {
          "base_uri": "https://localhost:8080/"
        },
        "outputId": "bd869cc3-2647-463f-ee18-b90651d0291a"
      },
      "execution_count": null,
      "outputs": [
        {
          "output_type": "stream",
          "name": "stdout",
          "text": [
            "/content/drive/MyDrive/Sem7/ResearchPaper/train/0\n",
            "/content/drive/MyDrive/Sem7/ResearchPaper/train/1\n",
            "/content/drive/MyDrive/Sem7/ResearchPaper/train/2\n"
          ]
        }
      ]
    },
    {
      "cell_type": "code",
      "source": [
        "data = np.array(data)\n",
        "labels = np.array(labels)"
      ],
      "metadata": {
        "id": "m9RGRhkcUd3-"
      },
      "execution_count": null,
      "outputs": []
    },
    {
      "cell_type": "code",
      "source": [
        "print(data.shape, labels.shape)"
      ],
      "metadata": {
        "id": "8i36hLTwUm-M",
        "colab": {
          "base_uri": "https://localhost:8080/"
        },
        "outputId": "4bc81de4-4e9b-45f0-c9dd-39e9761b6543"
      },
      "execution_count": null,
      "outputs": [
        {
          "output_type": "stream",
          "name": "stdout",
          "text": [
            "(1113, 30, 30, 3) (1113,)\n"
          ]
        }
      ]
    },
    {
      "cell_type": "code",
      "source": [
        "X_train, X_test, y_train, y_test = train_test_split(data, labels, test_size=0.2, random_state=0)"
      ],
      "metadata": {
        "id": "7jGo1JvcUxKL"
      },
      "execution_count": null,
      "outputs": []
    },
    {
      "cell_type": "code",
      "source": [
        "print(X_train.shape, X_test.shape, y_train.shape, y_test.shape)"
      ],
      "metadata": {
        "id": "uH-jfXdNUzRy",
        "colab": {
          "base_uri": "https://localhost:8080/"
        },
        "outputId": "695ac9cc-7275-4bb6-e182-92396f45286e"
      },
      "execution_count": null,
      "outputs": [
        {
          "output_type": "stream",
          "name": "stdout",
          "text": [
            "(890, 30, 30, 3) (223, 30, 30, 3) (890,) (223,)\n"
          ]
        }
      ]
    },
    {
      "cell_type": "code",
      "source": [
        "import matplotlib.pyplot as plt\n",
        "\n",
        "plt.figure(figsize=(4, 4))\n",
        "image = X_train[np.random.choice(range(X_train.shape[0]))]\n",
        "plt.imshow(image.astype(\"uint8\"))\n",
        "plt.axis(\"off\")"
      ],
      "metadata": {
        "id": "iyXONzUqY7IH",
        "colab": {
          "base_uri": "https://localhost:8080/",
          "height": 362
        },
        "outputId": "bedd1b76-8df2-45ad-bca6-40a2822043d2"
      },
      "execution_count": null,
      "outputs": [
        {
          "output_type": "execute_result",
          "data": {
            "text/plain": [
              "(-0.5, 29.5, 29.5, -0.5)"
            ]
          },
          "metadata": {},
          "execution_count": 12
        },
        {
          "output_type": "display_data",
          "data": {
            "text/plain": [
              "<Figure size 400x400 with 1 Axes>"
            ],
            "image/png": "[encoded data removed]"
          },
          "metadata": {}
        }
      ]
    },
    {
      "cell_type": "code",
      "source": [
        "#from keras.utils import to_categorical\n",
        "from tensorflow.keras.utils import to_categorical"
      ],
      "metadata": {
        "id": "etcT06UMVIzi"
      },
      "execution_count": null,
      "outputs": []
    },
    {
      "cell_type": "code",
      "source": [
        "data_augmentation = keras.Sequential(\n",
        "    [\n",
        "        layers.Normalization(),\n",
        "        layers.Resizing(72, 72),\n",
        "        layers.RandomFlip(\"horizontal\"),\n",
        "        layers.RandomRotation(factor=0.02),\n",
        "        layers.RandomZoom(\n",
        "            height_factor=0.2, width_factor=0.2\n",
        "        ),\n",
        "    ],\n",
        "    name=\"data_augmentation\",\n",
        ")\n",
        "# Compute the mean and the variance of the training data for normalization.\n",
        "data_augmentation.layers[0].adapt(X_train)"
      ],
      "metadata": {
        "id": "ehmrc5ctVd2X"
      },
      "execution_count": null,
      "outputs": []
    },
    {
      "cell_type": "code",
      "source": [
        "def mlp(x, hidden_units, dropout_rate):\n",
        "    for units in hidden_units:\n",
        "        x = layers.Dense(units, activation=tf.nn.gelu)(x)\n",
        "        x = layers.Dropout(dropout_rate)(x)\n",
        "    return x"
      ],
      "metadata": {
        "id": "HqY2ydJ7WCvU"
      },
      "execution_count": null,
      "outputs": []
    },
    {
      "cell_type": "code",
      "source": [
        "learning_rate = 0.001\n",
        "weight_decay = 0.0001\n",
        "batch_size = 256\n",
        "num_epochs = 120\n",
        "image_size = 72  # We'll resize input images to this size\n",
        "patch_size = 6  # Size of the patches to be extract from the input images\n",
        "num_patches = (image_size // patch_size) ** 2\n",
        "projection_dim = 64\n",
        "num_heads = 8       #6,7,8,9,10,11,12\n",
        "transformer_units = [\n",
        "    projection_dim * 2,\n",
        "    projection_dim,\n",
        "]  # Size of the transformer layers\n",
        "transformer_layers = 8\n",
        "mlp_head_units = [2048, 1024]  # Size of the dense layers of the final classifier"
      ],
      "metadata": {
        "id": "UJ_GEltFNI3Y"
      },
      "execution_count": null,
      "outputs": []
    },
    {
      "cell_type": "code",
      "source": [
        "class Patches(layers.Layer):\n",
        "    def __init__(self, patch_size):\n",
        "        super(Patches, self).__init__()\n",
        "        self.patch_size = patch_size\n",
        "\n",
        "    def call(self, images):\n",
        "        batch_size = tf.shape(images)[0]\n",
        "        patches = tf.image.extract_patches(\n",
        "            images=images,\n",
        "            sizes=[1, self.patch_size, self.patch_size, 1],\n",
        "            strides=[1, self.patch_size, self.patch_size, 1],\n",
        "            rates=[1, 1, 1, 1],\n",
        "            padding=\"VALID\",\n",
        "        )\n",
        "        patch_dims = patches.shape[-1]\n",
        "        patches = tf.reshape(patches, [batch_size, -1, patch_dims])\n",
        "        return patches"
      ],
      "metadata": {
        "id": "_u0m-JVQNL7W"
      },
      "execution_count": null,
      "outputs": []
    },
    {
      "cell_type": "code",
      "source": [
        "resized_image = tf.image.resize(\n",
        "    tf.convert_to_tensor([image]), size=(image_size, image_size)\n",
        ")\n",
        "patches = Patches(patch_size)(resized_image)\n",
        "print(f\"Image size: {image_size} X {image_size}\")\n",
        "print(f\"Patch size: {patch_size} X {patch_size}\")\n",
        "print(f\"Patches per image: {patches.shape[1]}\")\n",
        "print(f\"Elements per patch: {patches.shape[-1]}\")\n",
        "\n",
        "n = int(np.sqrt(patches.shape[1]))\n",
        "plt.figure(figsize=(4, 4))\n",
        "for i, patch in enumerate(patches[0]):\n",
        "    ax = plt.subplot(n, n, i + 1)\n",
        "    patch_img = tf.reshape(patch, (patch_size, patch_size, 3))\n",
        "    plt.imshow(patch_img.numpy().astype(\"uint8\"))\n",
        "    plt.axis(\"off\")"
      ],
      "metadata": {
        "id": "CVvwk1u0NghH",
        "colab": {
          "base_uri": "https://localhost:8080/",
          "height": 414
        },
        "outputId": "c7e372ff-772e-455d-f380-46acbdb3d54d"
      },
      "execution_count": null,
      "outputs": [
        {
          "output_type": "stream",
          "name": "stdout",
          "text": [
            "Image size: 72 X 72\n",
            "Patch size: 6 X 6\n",
            "Patches per image: 144\n",
            "Elements per patch: 108\n"
          ]
        },
        {
          "output_type": "display_data",
          "data": {
            "text/plain": [
              "<Figure size 400x400 with 144 Axes>"
            ],
            "image/png": "[encoded data removed]"
          },
          "metadata": {}
        }
      ]
    },
    {
      "cell_type": "code",
      "source": [
        "class PatchEncoder(layers.Layer):\n",
        "    def __init__(self, num_patches, projection_dim):\n",
        "        super(PatchEncoder, self).__init__()\n",
        "        self.num_patches = num_patches\n",
        "        self.projection = layers.Dense(units=projection_dim)\n",
        "        self.position_embedding = layers.Embedding(\n",
        "            input_dim=num_patches, output_dim=projection_dim\n",
        "        )\n",
        "\n",
        "    def call(self, patch):\n",
        "        positions = tf.range(start=0, limit=self.num_patches, delta=1)\n",
        "        encoded = self.projection(patch) + self.position_embedding(positions)\n",
        "        return encoded"
      ],
      "metadata": {
        "id": "kj43Cy_9Ns7a"
      },
      "execution_count": null,
      "outputs": []
    },
    {
      "cell_type": "code",
      "source": [
        "input_shape = (30, 30, 3)"
      ],
      "metadata": {
        "id": "7RIrNFGFPcEN"
      },
      "execution_count": null,
      "outputs": []
    },
    {
      "cell_type": "code",
      "source": [
        "def create_vit_classifier():\n",
        "    inputs = layers.Input(shape=input_shape)\n",
        "    # Augment data.\n",
        "    augmented = data_augmentation(inputs)\n",
        "    # Create patches.\n",
        "    patches = Patches(patch_size)(augmented)\n",
        "    # Encode patches.\n",
        "    encoded_patches = PatchEncoder(num_patches, projection_dim)(patches)\n",
        "\n",
        "    # Create multiple layers of the Transformer block.\n",
        "    for _ in range(transformer_layers):\n",
        "        # Layer normalization 1.\n",
        "        x1 = layers.LayerNormalization(epsilon=1e-6)(encoded_patches)\n",
        "        # Create a multi-head attention layer.\n",
        "        attention_output = layers.MultiHeadAttention(\n",
        "            num_heads=num_heads, key_dim=projection_dim, dropout=0.1\n",
        "        )(x1, x1)\n",
        "        # Skip connection 1.\n",
        "        x2 = layers.Add()([attention_output, encoded_patches])\n",
        "        # Layer normalization 2.\n",
        "        x3 = layers.LayerNormalization(epsilon=1e-6)(x2)\n",
        "        # MLP.\n",
        "        x3 = mlp(x3, hidden_units=transformer_units, dropout_rate=0.1)\n",
        "        # Skip connection 2.\n",
        "        encoded_patches = layers.Add()([x3, x2])\n",
        "\n",
        "    # Create a [batch_size, projection_dim] tensor.\n",
        "    representation = layers.LayerNormalization(epsilon=1e-6)(encoded_patches)\n",
        "    representation = layers.Flatten()(representation)\n",
        "    representation = layers.Dropout(0.5)(representation)\n",
        "    # Add MLP.\n",
        "    features = mlp(representation, hidden_units=mlp_head_units, dropout_rate=0.5)\n",
        "    # Classify outputs.\n",
        "    logits = layers.Dense(classes)(features)\n",
        "    # Create the Keras model.\n",
        "    model = keras.Model(inputs=inputs, outputs=logits)\n",
        "    return model\n",
        "\n",
        "# vit_classifier = create_vit_classifier()\n"
      ],
      "metadata": {
        "id": "UMQNuDeeN0Sf"
      },
      "execution_count": null,
      "outputs": []
    },
    {
      "cell_type": "code",
      "source": [
        "def run_experiment(model):\n",
        "    optimizer = tfa.optimizers.AdamW(\n",
        "        learning_rate=learning_rate, weight_decay=weight_decay\n",
        "    )\n",
        "\n",
        "    model.compile(\n",
        "        optimizer=optimizer,\n",
        "        loss=keras.losses.SparseCategoricalCrossentropy(from_logits=True),\n",
        "        metrics=[\n",
        "            keras.metrics.SparseCategoricalAccuracy(name=\"accuracy\"),\n",
        "            keras.metrics.SparseTopKCategoricalAccuracy(5, name=\"top-5-accuracy\"),\n",
        "        ],\n",
        "    )\n",
        "\n",
        "    checkpoint_filepath = \"/tmp/checkpoint\"\n",
        "    checkpoint_callback = keras.callbacks.ModelCheckpoint(\n",
        "        checkpoint_filepath,\n",
        "        monitor=\"val_accuracy\",\n",
        "        save_best_only=True,\n",
        "        save_weights_only=True,\n",
        "    )\n",
        "\n",
        "    history = model.fit(\n",
        "        x=X_train,\n",
        "        y=y_train,\n",
        "        batch_size=batch_size,\n",
        "        epochs=num_epochs,\n",
        "        validation_split=0.1,\n",
        "        callbacks=[checkpoint_callback],\n",
        "    )\n",
        "\n",
        "    model.load_weights(checkpoint_filepath)\n",
        "    _, accuracy, top_5_accuracy = model.evaluate(X_test, y_test)\n",
        "    print(f\"Test accuracy: {round(accuracy * 100, 2)}%\")\n",
        "    print(f\"Test top 5 accuracy: {round(top_5_accuracy * 100, 2)}%\")\n",
        "\n",
        "    return history\n",
        "\n",
        "\n",
        "vit_classifier = create_vit_classifier()\n",
        "history = run_experiment(vit_classifier)"
      ],
      "metadata": {
        "id": "Q8SsKll6N6Zu",
        "colab": {
          "base_uri": "https://localhost:8080/"
        },
        "outputId": "1de4971e-c269-4716-dd5e-92405f7663b2"
      },
      "execution_count": null,
      "outputs": [
        {
          "output_type": "stream",
          "name": "stdout",
          "text": [
            "Epoch 1/120\n",
            "4/4 [==============================] - 39s 1s/step - loss: 11.0857 - accuracy: 0.4220 - top-5-accuracy: 1.0000 - val_loss: 0.9637 - val_accuracy: 0.4719 - val_top-5-accuracy: 1.0000\n",
            "Epoch 2/120\n",
            "4/4 [==============================] - 3s 853ms/step - loss: 2.0051 - accuracy: 0.4657 - top-5-accuracy: 1.0000 - val_loss: 2.7794 - val_accuracy: 0.4944 - val_top-5-accuracy: 1.0000\n",
            "Epoch 3/120\n",
            "4/4 [==============================] - 2s 453ms/step - loss: 2.8015 - accuracy: 0.4494 - top-5-accuracy: 1.0000 - val_loss: 1.3635 - val_accuracy: 0.4270 - val_top-5-accuracy: 1.0000\n",
            "Epoch 4/120\n",
            "4/4 [==============================] - 2s 462ms/step - loss: 1.5900 - accuracy: 0.4607 - top-5-accuracy: 1.0000 - val_loss: 1.1417 - val_accuracy: 0.4719 - val_top-5-accuracy: 1.0000\n",
            "Epoch 5/120\n",
            "4/4 [==============================] - 2s 469ms/step - loss: 1.4459 - accuracy: 0.5593 - top-5-accuracy: 1.0000 - val_loss: 0.9380 - val_accuracy: 0.4607 - val_top-5-accuracy: 1.0000\n",
            "Epoch 6/120\n",
            "4/4 [==============================] - 2s 428ms/step - loss: 1.2244 - accuracy: 0.4744 - top-5-accuracy: 1.0000 - val_loss: 1.0027 - val_accuracy: 0.4831 - val_top-5-accuracy: 1.0000\n",
            "Epoch 7/120\n",
            "4/4 [==============================] - 3s 792ms/step - loss: 1.0918 - accuracy: 0.5156 - top-5-accuracy: 1.0000 - val_loss: 0.8295 - val_accuracy: 0.6742 - val_top-5-accuracy: 1.0000\n",
            "Epoch 8/120\n",
            "4/4 [==============================] - 2s 436ms/step - loss: 1.0627 - accuracy: 0.5406 - top-5-accuracy: 1.0000 - val_loss: 0.9030 - val_accuracy: 0.6404 - val_top-5-accuracy: 1.0000\n",
            "Epoch 9/120\n",
            "4/4 [==============================] - 2s 456ms/step - loss: 1.0072 - accuracy: 0.5368 - top-5-accuracy: 1.0000 - val_loss: 0.8403 - val_accuracy: 0.6517 - val_top-5-accuracy: 1.0000\n",
            "Epoch 10/120\n",
            "4/4 [==============================] - 3s 898ms/step - loss: 0.9758 - accuracy: 0.5743 - top-5-accuracy: 1.0000 - val_loss: 0.8174 - val_accuracy: 0.6854 - val_top-5-accuracy: 1.0000\n",
            "Epoch 11/120\n",
            "4/4 [==============================] - 2s 448ms/step - loss: 0.9073 - accuracy: 0.5843 - top-5-accuracy: 1.0000 - val_loss: 0.8560 - val_accuracy: 0.6629 - val_top-5-accuracy: 1.0000\n",
            "Epoch 12/120\n",
            "4/4 [==============================] - 3s 831ms/step - loss: 0.9137 - accuracy: 0.5705 - top-5-accuracy: 1.0000 - val_loss: 0.7354 - val_accuracy: 0.7865 - val_top-5-accuracy: 1.0000\n",
            "Epoch 13/120\n",
            "4/4 [==============================] - 3s 866ms/step - loss: 0.9521 - accuracy: 0.5718 - top-5-accuracy: 1.0000 - val_loss: 0.7757 - val_accuracy: 0.7978 - val_top-5-accuracy: 1.0000\n",
            "Epoch 14/120\n",
            "4/4 [==============================] - 2s 431ms/step - loss: 0.8914 - accuracy: 0.6080 - top-5-accuracy: 1.0000 - val_loss: 0.8369 - val_accuracy: 0.7865 - val_top-5-accuracy: 1.0000\n",
            "Epoch 15/120\n",
            "4/4 [==============================] - 2s 456ms/step - loss: 0.8873 - accuracy: 0.6092 - top-5-accuracy: 1.0000 - val_loss: 0.7376 - val_accuracy: 0.7640 - val_top-5-accuracy: 1.0000\n",
            "Epoch 16/120\n",
            "4/4 [==============================] - 2s 453ms/step - loss: 0.8958 - accuracy: 0.6092 - top-5-accuracy: 1.0000 - val_loss: 0.7041 - val_accuracy: 0.7640 - val_top-5-accuracy: 1.0000\n",
            "Epoch 17/120\n",
            "4/4 [==============================] - 3s 838ms/step - loss: 0.8863 - accuracy: 0.6092 - top-5-accuracy: 1.0000 - val_loss: 0.7453 - val_accuracy: 0.8202 - val_top-5-accuracy: 1.0000\n",
            "Epoch 18/120\n",
            "4/4 [==============================] - 2s 433ms/step - loss: 0.8349 - accuracy: 0.6417 - top-5-accuracy: 1.0000 - val_loss: 0.6947 - val_accuracy: 0.7978 - val_top-5-accuracy: 1.0000\n",
            "Epoch 19/120\n",
            "4/4 [==============================] - 2s 456ms/step - loss: 0.8928 - accuracy: 0.6404 - top-5-accuracy: 1.0000 - val_loss: 0.6851 - val_accuracy: 0.8090 - val_top-5-accuracy: 1.0000\n",
            "Epoch 20/120\n",
            "4/4 [==============================] - 2s 435ms/step - loss: 0.8719 - accuracy: 0.6280 - top-5-accuracy: 1.0000 - val_loss: 0.6864 - val_accuracy: 0.7865 - val_top-5-accuracy: 1.0000\n",
            "Epoch 21/120\n",
            "4/4 [==============================] - 2s 432ms/step - loss: 0.8726 - accuracy: 0.6217 - top-5-accuracy: 1.0000 - val_loss: 0.6405 - val_accuracy: 0.8202 - val_top-5-accuracy: 1.0000\n",
            "Epoch 22/120\n",
            "4/4 [==============================] - 2s 466ms/step - loss: 0.8897 - accuracy: 0.6567 - top-5-accuracy: 1.0000 - val_loss: 0.6485 - val_accuracy: 0.7416 - val_top-5-accuracy: 1.0000\n",
            "Epoch 23/120\n",
            "4/4 [==============================] - 2s 469ms/step - loss: 0.8106 - accuracy: 0.6579 - top-5-accuracy: 1.0000 - val_loss: 0.6496 - val_accuracy: 0.7978 - val_top-5-accuracy: 1.0000\n",
            "Epoch 24/120\n",
            "4/4 [==============================] - 2s 463ms/step - loss: 0.8315 - accuracy: 0.6542 - top-5-accuracy: 1.0000 - val_loss: 0.6612 - val_accuracy: 0.7640 - val_top-5-accuracy: 1.0000\n",
            "Epoch 25/120\n",
            "4/4 [==============================] - 3s 806ms/step - loss: 0.8600 - accuracy: 0.6217 - top-5-accuracy: 1.0000 - val_loss: 0.6299 - val_accuracy: 0.8315 - val_top-5-accuracy: 1.0000\n",
            "Epoch 26/120\n",
            "4/4 [==============================] - 2s 460ms/step - loss: 0.7843 - accuracy: 0.6592 - top-5-accuracy: 1.0000 - val_loss: 0.6103 - val_accuracy: 0.8202 - val_top-5-accuracy: 1.0000\n",
            "Epoch 27/120\n",
            "4/4 [==============================] - 2s 437ms/step - loss: 0.7535 - accuracy: 0.6729 - top-5-accuracy: 1.0000 - val_loss: 0.6076 - val_accuracy: 0.8202 - val_top-5-accuracy: 1.0000\n",
            "Epoch 28/120\n",
            "4/4 [==============================] - 2s 439ms/step - loss: 0.8038 - accuracy: 0.6517 - top-5-accuracy: 1.0000 - val_loss: 0.6455 - val_accuracy: 0.8090 - val_top-5-accuracy: 1.0000\n",
            "Epoch 29/120\n",
            "4/4 [==============================] - 2s 448ms/step - loss: 0.7757 - accuracy: 0.6667 - top-5-accuracy: 1.0000 - val_loss: 0.6190 - val_accuracy: 0.7865 - val_top-5-accuracy: 1.0000\n",
            "Epoch 30/120\n",
            "4/4 [==============================] - 2s 456ms/step - loss: 0.7763 - accuracy: 0.6704 - top-5-accuracy: 1.0000 - val_loss: 0.5974 - val_accuracy: 0.8202 - val_top-5-accuracy: 1.0000\n",
            "Epoch 31/120\n",
            "4/4 [==============================] - 2s 439ms/step - loss: 0.7597 - accuracy: 0.6916 - top-5-accuracy: 1.0000 - val_loss: 0.5531 - val_accuracy: 0.8090 - val_top-5-accuracy: 1.0000\n",
            "Epoch 32/120\n",
            "4/4 [==============================] - 3s 817ms/step - loss: 0.7783 - accuracy: 0.6729 - top-5-accuracy: 1.0000 - val_loss: 0.5336 - val_accuracy: 0.8652 - val_top-5-accuracy: 1.0000\n",
            "Epoch 33/120\n",
            "4/4 [==============================] - 2s 438ms/step - loss: 0.7664 - accuracy: 0.6579 - top-5-accuracy: 1.0000 - val_loss: 0.5867 - val_accuracy: 0.7753 - val_top-5-accuracy: 1.0000\n",
            "Epoch 34/120\n",
            "4/4 [==============================] - 2s 459ms/step - loss: 0.8016 - accuracy: 0.6729 - top-5-accuracy: 1.0000 - val_loss: 0.5263 - val_accuracy: 0.8427 - val_top-5-accuracy: 1.0000\n",
            "Epoch 35/120\n",
            "4/4 [==============================] - 2s 451ms/step - loss: 0.7780 - accuracy: 0.6742 - top-5-accuracy: 1.0000 - val_loss: 0.5294 - val_accuracy: 0.8427 - val_top-5-accuracy: 1.0000\n",
            "Epoch 36/120\n",
            "4/4 [==============================] - 2s 449ms/step - loss: 0.7489 - accuracy: 0.6904 - top-5-accuracy: 1.0000 - val_loss: 0.5471 - val_accuracy: 0.8202 - val_top-5-accuracy: 1.0000\n",
            "Epoch 37/120\n",
            "4/4 [==============================] - 3s 926ms/step - loss: 0.7591 - accuracy: 0.6904 - top-5-accuracy: 1.0000 - val_loss: 0.4968 - val_accuracy: 0.8764 - val_top-5-accuracy: 1.0000\n",
            "Epoch 38/120\n",
            "4/4 [==============================] - 2s 464ms/step - loss: 0.7376 - accuracy: 0.6904 - top-5-accuracy: 1.0000 - val_loss: 0.4865 - val_accuracy: 0.8427 - val_top-5-accuracy: 1.0000\n",
            "Epoch 39/120\n",
            "4/4 [==============================] - 2s 436ms/step - loss: 0.7033 - accuracy: 0.7141 - top-5-accuracy: 1.0000 - val_loss: 0.4912 - val_accuracy: 0.8539 - val_top-5-accuracy: 1.0000\n",
            "Epoch 40/120\n",
            "4/4 [==============================] - 2s 461ms/step - loss: 0.7029 - accuracy: 0.7203 - top-5-accuracy: 1.0000 - val_loss: 0.4675 - val_accuracy: 0.8539 - val_top-5-accuracy: 1.0000\n",
            "Epoch 41/120\n",
            "4/4 [==============================] - 2s 439ms/step - loss: 0.7024 - accuracy: 0.7104 - top-5-accuracy: 1.0000 - val_loss: 0.4591 - val_accuracy: 0.8652 - val_top-5-accuracy: 1.0000\n",
            "Epoch 42/120\n",
            "4/4 [==============================] - 2s 463ms/step - loss: 0.6982 - accuracy: 0.7091 - top-5-accuracy: 1.0000 - val_loss: 0.4577 - val_accuracy: 0.8539 - val_top-5-accuracy: 1.0000\n",
            "Epoch 43/120\n",
            "4/4 [==============================] - 2s 451ms/step - loss: 0.6728 - accuracy: 0.7266 - top-5-accuracy: 1.0000 - val_loss: 0.4629 - val_accuracy: 0.8427 - val_top-5-accuracy: 1.0000\n",
            "Epoch 44/120\n",
            "4/4 [==============================] - 2s 466ms/step - loss: 0.6673 - accuracy: 0.7278 - top-5-accuracy: 1.0000 - val_loss: 0.4504 - val_accuracy: 0.8315 - val_top-5-accuracy: 1.0000\n",
            "Epoch 45/120\n",
            "4/4 [==============================] - 2s 444ms/step - loss: 0.6755 - accuracy: 0.7228 - top-5-accuracy: 1.0000 - val_loss: 0.4230 - val_accuracy: 0.8315 - val_top-5-accuracy: 1.0000\n",
            "Epoch 46/120\n",
            "4/4 [==============================] - 2s 441ms/step - loss: 0.6780 - accuracy: 0.7154 - top-5-accuracy: 1.0000 - val_loss: 0.4271 - val_accuracy: 0.8315 - val_top-5-accuracy: 1.0000\n",
            "Epoch 47/120\n",
            "4/4 [==============================] - 2s 445ms/step - loss: 0.6622 - accuracy: 0.7203 - top-5-accuracy: 1.0000 - val_loss: 0.4393 - val_accuracy: 0.8427 - val_top-5-accuracy: 1.0000\n",
            "Epoch 48/120\n",
            "4/4 [==============================] - 2s 444ms/step - loss: 0.6232 - accuracy: 0.7403 - top-5-accuracy: 1.0000 - val_loss: 0.4227 - val_accuracy: 0.8652 - val_top-5-accuracy: 1.0000\n",
            "Epoch 49/120\n",
            "4/4 [==============================] - 2s 475ms/step - loss: 0.6609 - accuracy: 0.7303 - top-5-accuracy: 1.0000 - val_loss: 0.4263 - val_accuracy: 0.8652 - val_top-5-accuracy: 1.0000\n",
            "Epoch 50/120\n",
            "4/4 [==============================] - 2s 455ms/step - loss: 0.6342 - accuracy: 0.7341 - top-5-accuracy: 1.0000 - val_loss: 0.4281 - val_accuracy: 0.8315 - val_top-5-accuracy: 1.0000\n",
            "Epoch 51/120\n",
            "4/4 [==============================] - 2s 441ms/step - loss: 0.6737 - accuracy: 0.7141 - top-5-accuracy: 1.0000 - val_loss: 0.4517 - val_accuracy: 0.8764 - val_top-5-accuracy: 1.0000\n",
            "Epoch 52/120\n",
            "4/4 [==============================] - 2s 438ms/step - loss: 0.6286 - accuracy: 0.7291 - top-5-accuracy: 1.0000 - val_loss: 0.4303 - val_accuracy: 0.8652 - val_top-5-accuracy: 1.0000\n",
            "Epoch 53/120\n",
            "4/4 [==============================] - 2s 441ms/step - loss: 0.6403 - accuracy: 0.7503 - top-5-accuracy: 1.0000 - val_loss: 0.4381 - val_accuracy: 0.8539 - val_top-5-accuracy: 1.0000\n",
            "Epoch 54/120\n",
            "4/4 [==============================] - 2s 442ms/step - loss: 0.6358 - accuracy: 0.7453 - top-5-accuracy: 1.0000 - val_loss: 0.4318 - val_accuracy: 0.8652 - val_top-5-accuracy: 1.0000\n",
            "Epoch 55/120\n",
            "4/4 [==============================] - 2s 441ms/step - loss: 0.6312 - accuracy: 0.7466 - top-5-accuracy: 1.0000 - val_loss: 0.4412 - val_accuracy: 0.8315 - val_top-5-accuracy: 1.0000\n",
            "Epoch 56/120\n",
            "4/4 [==============================] - 2s 475ms/step - loss: 0.6766 - accuracy: 0.7253 - top-5-accuracy: 1.0000 - val_loss: 0.4173 - val_accuracy: 0.8427 - val_top-5-accuracy: 1.0000\n",
            "Epoch 57/120\n",
            "4/4 [==============================] - 2s 477ms/step - loss: 0.5916 - accuracy: 0.7703 - top-5-accuracy: 1.0000 - val_loss: 0.3806 - val_accuracy: 0.8764 - val_top-5-accuracy: 1.0000\n",
            "Epoch 58/120\n",
            "4/4 [==============================] - 2s 448ms/step - loss: 0.5923 - accuracy: 0.7640 - top-5-accuracy: 1.0000 - val_loss: 0.3871 - val_accuracy: 0.8539 - val_top-5-accuracy: 1.0000\n",
            "Epoch 59/120\n",
            "4/4 [==============================] - 2s 467ms/step - loss: 0.6355 - accuracy: 0.7441 - top-5-accuracy: 1.0000 - val_loss: 0.3527 - val_accuracy: 0.8652 - val_top-5-accuracy: 1.0000\n",
            "Epoch 60/120\n",
            "4/4 [==============================] - 2s 442ms/step - loss: 0.6061 - accuracy: 0.7640 - top-5-accuracy: 1.0000 - val_loss: 0.3643 - val_accuracy: 0.8539 - val_top-5-accuracy: 1.0000\n",
            "Epoch 61/120\n",
            "4/4 [==============================] - 2s 468ms/step - loss: 0.6112 - accuracy: 0.7665 - top-5-accuracy: 1.0000 - val_loss: 0.3787 - val_accuracy: 0.8539 - val_top-5-accuracy: 1.0000\n",
            "Epoch 62/120\n",
            "4/4 [==============================] - 2s 464ms/step - loss: 0.5796 - accuracy: 0.7690 - top-5-accuracy: 1.0000 - val_loss: 0.3785 - val_accuracy: 0.8539 - val_top-5-accuracy: 1.0000\n",
            "Epoch 63/120\n",
            "4/4 [==============================] - 2s 475ms/step - loss: 0.6235 - accuracy: 0.7478 - top-5-accuracy: 1.0000 - val_loss: 0.4057 - val_accuracy: 0.8764 - val_top-5-accuracy: 1.0000\n",
            "Epoch 64/120\n",
            "4/4 [==============================] - 3s 903ms/step - loss: 0.5992 - accuracy: 0.7466 - top-5-accuracy: 1.0000 - val_loss: 0.4508 - val_accuracy: 0.8989 - val_top-5-accuracy: 1.0000\n",
            "Epoch 65/120\n",
            "4/4 [==============================] - 2s 443ms/step - loss: 0.5910 - accuracy: 0.7615 - top-5-accuracy: 1.0000 - val_loss: 0.4280 - val_accuracy: 0.8652 - val_top-5-accuracy: 1.0000\n",
            "Epoch 66/120\n",
            "4/4 [==============================] - 2s 448ms/step - loss: 0.6258 - accuracy: 0.7403 - top-5-accuracy: 1.0000 - val_loss: 0.4181 - val_accuracy: 0.8427 - val_top-5-accuracy: 1.0000\n",
            "Epoch 67/120\n",
            "4/4 [==============================] - 2s 442ms/step - loss: 0.5881 - accuracy: 0.7690 - top-5-accuracy: 1.0000 - val_loss: 0.4189 - val_accuracy: 0.8652 - val_top-5-accuracy: 1.0000\n",
            "Epoch 68/120\n",
            "4/4 [==============================] - 2s 444ms/step - loss: 0.6030 - accuracy: 0.7778 - top-5-accuracy: 1.0000 - val_loss: 0.4027 - val_accuracy: 0.8764 - val_top-5-accuracy: 1.0000\n",
            "Epoch 69/120\n",
            "4/4 [==============================] - 2s 459ms/step - loss: 0.5950 - accuracy: 0.7653 - top-5-accuracy: 1.0000 - val_loss: 0.4114 - val_accuracy: 0.8764 - val_top-5-accuracy: 1.0000\n",
            "Epoch 70/120\n",
            "4/4 [==============================] - 2s 477ms/step - loss: 0.5913 - accuracy: 0.7578 - top-5-accuracy: 1.0000 - val_loss: 0.4258 - val_accuracy: 0.8764 - val_top-5-accuracy: 1.0000\n",
            "Epoch 71/120\n",
            "4/4 [==============================] - 2s 443ms/step - loss: 0.6097 - accuracy: 0.7553 - top-5-accuracy: 1.0000 - val_loss: 0.4291 - val_accuracy: 0.8539 - val_top-5-accuracy: 1.0000\n",
            "Epoch 72/120\n",
            "4/4 [==============================] - 2s 444ms/step - loss: 0.6141 - accuracy: 0.7516 - top-5-accuracy: 1.0000 - val_loss: 0.4083 - val_accuracy: 0.8539 - val_top-5-accuracy: 1.0000\n",
            "Epoch 73/120\n",
            "4/4 [==============================] - 2s 468ms/step - loss: 0.5680 - accuracy: 0.7665 - top-5-accuracy: 1.0000 - val_loss: 0.4127 - val_accuracy: 0.8652 - val_top-5-accuracy: 1.0000\n",
            "Epoch 74/120\n",
            "4/4 [==============================] - 2s 446ms/step - loss: 0.5613 - accuracy: 0.7628 - top-5-accuracy: 1.0000 - val_loss: 0.3712 - val_accuracy: 0.8989 - val_top-5-accuracy: 1.0000\n",
            "Epoch 75/120\n",
            "4/4 [==============================] - 2s 444ms/step - loss: 0.5584 - accuracy: 0.7753 - top-5-accuracy: 1.0000 - val_loss: 0.3471 - val_accuracy: 0.8876 - val_top-5-accuracy: 1.0000\n",
            "Epoch 76/120\n",
            "4/4 [==============================] - 2s 449ms/step - loss: 0.5473 - accuracy: 0.7953 - top-5-accuracy: 1.0000 - val_loss: 0.3465 - val_accuracy: 0.8764 - val_top-5-accuracy: 1.0000\n",
            "Epoch 77/120\n",
            "4/4 [==============================] - 2s 485ms/step - loss: 0.5420 - accuracy: 0.7853 - top-5-accuracy: 1.0000 - val_loss: 0.3711 - val_accuracy: 0.8764 - val_top-5-accuracy: 1.0000\n",
            "Epoch 78/120\n",
            "4/4 [==============================] - 2s 452ms/step - loss: 0.5677 - accuracy: 0.7815 - top-5-accuracy: 1.0000 - val_loss: 0.3495 - val_accuracy: 0.8764 - val_top-5-accuracy: 1.0000\n",
            "Epoch 79/120\n",
            "4/4 [==============================] - 2s 445ms/step - loss: 0.5860 - accuracy: 0.7665 - top-5-accuracy: 1.0000 - val_loss: 0.3492 - val_accuracy: 0.8876 - val_top-5-accuracy: 1.0000\n",
            "Epoch 80/120\n",
            "4/4 [==============================] - 2s 467ms/step - loss: 0.5390 - accuracy: 0.7890 - top-5-accuracy: 1.0000 - val_loss: 0.3897 - val_accuracy: 0.8539 - val_top-5-accuracy: 1.0000\n",
            "Epoch 81/120\n",
            "4/4 [==============================] - 2s 444ms/step - loss: 0.5190 - accuracy: 0.8040 - top-5-accuracy: 1.0000 - val_loss: 0.3871 - val_accuracy: 0.8539 - val_top-5-accuracy: 1.0000\n",
            "Epoch 82/120\n",
            "4/4 [==============================] - 2s 446ms/step - loss: 0.5500 - accuracy: 0.7915 - top-5-accuracy: 1.0000 - val_loss: 0.3783 - val_accuracy: 0.8764 - val_top-5-accuracy: 1.0000\n",
            "Epoch 83/120\n",
            "4/4 [==============================] - 2s 468ms/step - loss: 0.4913 - accuracy: 0.8190 - top-5-accuracy: 1.0000 - val_loss: 0.3170 - val_accuracy: 0.8876 - val_top-5-accuracy: 1.0000\n",
            "Epoch 84/120\n",
            "4/4 [==============================] - 2s 486ms/step - loss: 0.5087 - accuracy: 0.7778 - top-5-accuracy: 1.0000 - val_loss: 0.3186 - val_accuracy: 0.8764 - val_top-5-accuracy: 1.0000\n",
            "Epoch 85/120\n",
            "4/4 [==============================] - 2s 450ms/step - loss: 0.5377 - accuracy: 0.7903 - top-5-accuracy: 1.0000 - val_loss: 0.3361 - val_accuracy: 0.8652 - val_top-5-accuracy: 1.0000\n",
            "Epoch 86/120\n",
            "4/4 [==============================] - 2s 443ms/step - loss: 0.4763 - accuracy: 0.8102 - top-5-accuracy: 1.0000 - val_loss: 0.3318 - val_accuracy: 0.8876 - val_top-5-accuracy: 1.0000\n",
            "Epoch 87/120\n",
            "4/4 [==============================] - 2s 445ms/step - loss: 0.5584 - accuracy: 0.7815 - top-5-accuracy: 1.0000 - val_loss: 0.3243 - val_accuracy: 0.8989 - val_top-5-accuracy: 1.0000\n",
            "Epoch 88/120\n",
            "4/4 [==============================] - 2s 469ms/step - loss: 0.5391 - accuracy: 0.7865 - top-5-accuracy: 1.0000 - val_loss: 0.3251 - val_accuracy: 0.8652 - val_top-5-accuracy: 1.0000\n",
            "Epoch 89/120\n",
            "4/4 [==============================] - 2s 474ms/step - loss: 0.5107 - accuracy: 0.8115 - top-5-accuracy: 1.0000 - val_loss: 0.3539 - val_accuracy: 0.8652 - val_top-5-accuracy: 1.0000\n",
            "Epoch 90/120\n",
            "4/4 [==============================] - 2s 459ms/step - loss: 0.5072 - accuracy: 0.8027 - top-5-accuracy: 1.0000 - val_loss: 0.3334 - val_accuracy: 0.8652 - val_top-5-accuracy: 1.0000\n",
            "Epoch 91/120\n",
            "4/4 [==============================] - 2s 494ms/step - loss: 0.4905 - accuracy: 0.8052 - top-5-accuracy: 1.0000 - val_loss: 0.3517 - val_accuracy: 0.8427 - val_top-5-accuracy: 1.0000\n",
            "Epoch 92/120\n",
            "4/4 [==============================] - 4s 982ms/step - loss: 0.5310 - accuracy: 0.7828 - top-5-accuracy: 1.0000 - val_loss: 0.3385 - val_accuracy: 0.9101 - val_top-5-accuracy: 1.0000\n",
            "Epoch 93/120\n",
            "4/4 [==============================] - 2s 467ms/step - loss: 0.4958 - accuracy: 0.7978 - top-5-accuracy: 1.0000 - val_loss: 0.3491 - val_accuracy: 0.8427 - val_top-5-accuracy: 1.0000\n",
            "Epoch 94/120\n",
            "4/4 [==============================] - 2s 448ms/step - loss: 0.5168 - accuracy: 0.8027 - top-5-accuracy: 1.0000 - val_loss: 0.3136 - val_accuracy: 0.8989 - val_top-5-accuracy: 1.0000\n",
            "Epoch 95/120\n",
            "4/4 [==============================] - 2s 448ms/step - loss: 0.4977 - accuracy: 0.8077 - top-5-accuracy: 1.0000 - val_loss: 0.3204 - val_accuracy: 0.8652 - val_top-5-accuracy: 1.0000\n",
            "Epoch 96/120\n",
            "4/4 [==============================] - 2s 451ms/step - loss: 0.4722 - accuracy: 0.8065 - top-5-accuracy: 1.0000 - val_loss: 0.3285 - val_accuracy: 0.8652 - val_top-5-accuracy: 1.0000\n",
            "Epoch 97/120\n",
            "4/4 [==============================] - 2s 486ms/step - loss: 0.4884 - accuracy: 0.8002 - top-5-accuracy: 1.0000 - val_loss: 0.3202 - val_accuracy: 0.8764 - val_top-5-accuracy: 1.0000\n",
            "Epoch 98/120\n",
            "4/4 [==============================] - 2s 464ms/step - loss: 0.5188 - accuracy: 0.8027 - top-5-accuracy: 1.0000 - val_loss: 0.3013 - val_accuracy: 0.8876 - val_top-5-accuracy: 1.0000\n",
            "Epoch 99/120\n",
            "4/4 [==============================] - 2s 473ms/step - loss: 0.5384 - accuracy: 0.7940 - top-5-accuracy: 1.0000 - val_loss: 0.3006 - val_accuracy: 0.8989 - val_top-5-accuracy: 1.0000\n",
            "Epoch 100/120\n",
            "4/4 [==============================] - 2s 453ms/step - loss: 0.4515 - accuracy: 0.8340 - top-5-accuracy: 1.0000 - val_loss: 0.3066 - val_accuracy: 0.9101 - val_top-5-accuracy: 1.0000\n",
            "Epoch 101/120\n",
            "4/4 [==============================] - 2s 469ms/step - loss: 0.4554 - accuracy: 0.8227 - top-5-accuracy: 1.0000 - val_loss: 0.3229 - val_accuracy: 0.8764 - val_top-5-accuracy: 1.0000\n",
            "Epoch 102/120\n",
            "4/4 [==============================] - 2s 451ms/step - loss: 0.4701 - accuracy: 0.8027 - top-5-accuracy: 1.0000 - val_loss: 0.3165 - val_accuracy: 0.8539 - val_top-5-accuracy: 1.0000\n",
            "Epoch 103/120\n",
            "4/4 [==============================] - 2s 448ms/step - loss: 0.4144 - accuracy: 0.8352 - top-5-accuracy: 1.0000 - val_loss: 0.2854 - val_accuracy: 0.8876 - val_top-5-accuracy: 1.0000\n",
            "Epoch 104/120\n",
            "4/4 [==============================] - 2s 468ms/step - loss: 0.4106 - accuracy: 0.8452 - top-5-accuracy: 1.0000 - val_loss: 0.3022 - val_accuracy: 0.8652 - val_top-5-accuracy: 1.0000\n",
            "Epoch 105/120\n",
            "4/4 [==============================] - 2s 464ms/step - loss: 0.4241 - accuracy: 0.8302 - top-5-accuracy: 1.0000 - val_loss: 0.3294 - val_accuracy: 0.8652 - val_top-5-accuracy: 1.0000\n",
            "Epoch 106/120\n",
            "4/4 [==============================] - 2s 478ms/step - loss: 0.4420 - accuracy: 0.8190 - top-5-accuracy: 1.0000 - val_loss: 0.2680 - val_accuracy: 0.9101 - val_top-5-accuracy: 1.0000\n",
            "Epoch 107/120\n",
            "4/4 [==============================] - 2s 451ms/step - loss: 0.3979 - accuracy: 0.8365 - top-5-accuracy: 1.0000 - val_loss: 0.2648 - val_accuracy: 0.8876 - val_top-5-accuracy: 1.0000\n",
            "Epoch 108/120\n",
            "4/4 [==============================] - 2s 451ms/step - loss: 0.4076 - accuracy: 0.8365 - top-5-accuracy: 1.0000 - val_loss: 0.2864 - val_accuracy: 0.9101 - val_top-5-accuracy: 1.0000\n",
            "Epoch 109/120\n",
            "4/4 [==============================] - 3s 837ms/step - loss: 0.4774 - accuracy: 0.8090 - top-5-accuracy: 1.0000 - val_loss: 0.2734 - val_accuracy: 0.9326 - val_top-5-accuracy: 1.0000\n",
            "Epoch 110/120\n",
            "4/4 [==============================] - 2s 464ms/step - loss: 0.4385 - accuracy: 0.8315 - top-5-accuracy: 1.0000 - val_loss: 0.2826 - val_accuracy: 0.9326 - val_top-5-accuracy: 1.0000\n",
            "Epoch 111/120\n",
            "4/4 [==============================] - 2s 465ms/step - loss: 0.4272 - accuracy: 0.8240 - top-5-accuracy: 1.0000 - val_loss: 0.3065 - val_accuracy: 0.8764 - val_top-5-accuracy: 1.0000\n",
            "Epoch 112/120\n",
            "4/4 [==============================] - 2s 453ms/step - loss: 0.4279 - accuracy: 0.8252 - top-5-accuracy: 1.0000 - val_loss: 0.2807 - val_accuracy: 0.9101 - val_top-5-accuracy: 1.0000\n",
            "Epoch 113/120\n",
            "4/4 [==============================] - 2s 453ms/step - loss: 0.4273 - accuracy: 0.8365 - top-5-accuracy: 1.0000 - val_loss: 0.2828 - val_accuracy: 0.8539 - val_top-5-accuracy: 1.0000\n",
            "Epoch 114/120\n",
            "4/4 [==============================] - 2s 476ms/step - loss: 0.4240 - accuracy: 0.8315 - top-5-accuracy: 1.0000 - val_loss: 0.2796 - val_accuracy: 0.8876 - val_top-5-accuracy: 1.0000\n",
            "Epoch 115/120\n",
            "4/4 [==============================] - 2s 452ms/step - loss: 0.4241 - accuracy: 0.8390 - top-5-accuracy: 1.0000 - val_loss: 0.2728 - val_accuracy: 0.8989 - val_top-5-accuracy: 1.0000\n",
            "Epoch 116/120\n",
            "4/4 [==============================] - 2s 474ms/step - loss: 0.4226 - accuracy: 0.8402 - top-5-accuracy: 1.0000 - val_loss: 0.2578 - val_accuracy: 0.9213 - val_top-5-accuracy: 1.0000\n",
            "Epoch 117/120\n",
            "4/4 [==============================] - 2s 484ms/step - loss: 0.3875 - accuracy: 0.8390 - top-5-accuracy: 1.0000 - val_loss: 0.2378 - val_accuracy: 0.9326 - val_top-5-accuracy: 1.0000\n",
            "Epoch 118/120\n",
            "4/4 [==============================] - 2s 469ms/step - loss: 0.4253 - accuracy: 0.8439 - top-5-accuracy: 1.0000 - val_loss: 0.2425 - val_accuracy: 0.9213 - val_top-5-accuracy: 1.0000\n",
            "Epoch 119/120\n",
            "4/4 [==============================] - 2s 452ms/step - loss: 0.4081 - accuracy: 0.8365 - top-5-accuracy: 1.0000 - val_loss: 0.2267 - val_accuracy: 0.9326 - val_top-5-accuracy: 1.0000\n",
            "Epoch 120/120\n",
            "4/4 [==============================] - 3s 807ms/step - loss: 0.4366 - accuracy: 0.8452 - top-5-accuracy: 1.0000 - val_loss: 0.2388 - val_accuracy: 0.9551 - val_top-5-accuracy: 1.0000\n",
            "7/7 [==============================] - 0s 42ms/step - loss: 0.2411 - accuracy: 0.9058 - top-5-accuracy: 1.0000\n",
            "Test accuracy: 90.58%\n",
            "Test top 5 accuracy: 100.0%\n"
          ]
        }
      ]
    },
    {
      "cell_type": "code",
      "source": [
        "#history.history ??\n",
        "history.history.keys()\n",
        "print(history.history['accuracy'])"
      ],
      "metadata": {
        "id": "QxC1FPV3LICd",
        "colab": {
          "base_uri": "https://localhost:8080/",
          "height": 176
        },
        "outputId": "67969d6e-1d70-4ee5-e16d-44841abaff14"
      },
      "execution_count": 1,
      "outputs": [
        {
          "output_type": "error",
          "ename": "NameError",
          "evalue": "name 'history' is not defined",
          "traceback": [
            "\u001b[0;31m---------------------------------------------------------------------------\u001b[0m",
            "\u001b[0;31mNameError\u001b[0m                                 Traceback (most recent call last)",
            "\u001b[0;32m<ipython-input-1-64a5167bc168>\u001b[0m in \u001b[0;36m<cell line: 2>\u001b[0;34m()\u001b[0m\n\u001b[1;32m      1\u001b[0m \u001b[0;31m#history.history ??\u001b[0m\u001b[0;34m\u001b[0m\u001b[0;34m\u001b[0m\u001b[0m\n\u001b[0;32m----> 2\u001b[0;31m \u001b[0mhistory\u001b[0m\u001b[0;34m.\u001b[0m\u001b[0mhistory\u001b[0m\u001b[0;34m.\u001b[0m\u001b[0mkeys\u001b[0m\u001b[0;34m(\u001b[0m\u001b[0;34m)\u001b[0m\u001b[0;34m\u001b[0m\u001b[0;34m\u001b[0m\u001b[0m\n\u001b[0m\u001b[1;32m      3\u001b[0m \u001b[0mprint\u001b[0m\u001b[0;34m(\u001b[0m\u001b[0mhistory\u001b[0m\u001b[0;34m.\u001b[0m\u001b[0mhistory\u001b[0m\u001b[0;34m[\u001b[0m\u001b[0;34m'accuracy'\u001b[0m\u001b[0;34m]\u001b[0m\u001b[0;34m)\u001b[0m\u001b[0;34m\u001b[0m\u001b[0;34m\u001b[0m\u001b[0m\n",
            "\u001b[0;31mNameError\u001b[0m: name 'history' is not defined"
          ]
        }
      ]
    },
    {
      "cell_type": "code",
      "source": [
        "history.history"
      ],
      "metadata": {
        "id": "FRIwihSFZ7_4",
        "colab": {
          "base_uri": "https://localhost:8080/"
        },
        "outputId": "5410b140-5031-4a0c-b4b7-6e274f65d332"
      },
      "execution_count": null,
      "outputs": [
        {
          "output_type": "execute_result",
          "data": {
            "text/plain": [
              "{'loss': [11.085711479187012,\n",
              "  2.0051403045654297,\n",
              "  2.8015167713165283,\n",
              "  1.590004563331604,\n",
              "  1.4459033012390137,\n",
              "  1.2243527173995972,\n",
              "  1.0918257236480713,\n",
              "  1.0627330541610718,\n",
              "  1.0072472095489502,\n",
              "  0.975839376449585,\n",
              "  0.90733802318573,\n",
              "  0.91366046667099,\n",
              "  0.9521039128303528,\n",
              "  0.8913710713386536,\n",
              "  0.887251615524292,\n",
              "  0.8958181142807007,\n",
              "  0.8863063454627991,\n",
              "  0.834876298904419,\n",
              "  0.8927621245384216,\n",
              "  0.8719262480735779,\n",
              "  0.8725594878196716,\n",
              "  0.8897351622581482,\n",
              "  0.8106294870376587,\n",
              "  0.8314871788024902,\n",
              "  0.8600277900695801,\n",
              "  0.7842874526977539,\n",
              "  0.7534764409065247,\n",
              "  0.8037607073783875,\n",
              "  0.7756794095039368,\n",
              "  0.7762767672538757,\n",
              "  0.7597200870513916,\n",
              "  0.7783393859863281,\n",
              "  0.7663858532905579,\n",
              "  0.8015792965888977,\n",
              "  0.7780395150184631,\n",
              "  0.7489457130432129,\n",
              "  0.7591185569763184,\n",
              "  0.7376171946525574,\n",
              "  0.7033003568649292,\n",
              "  0.7029233574867249,\n",
              "  0.7023714780807495,\n",
              "  0.6981767416000366,\n",
              "  0.6727758049964905,\n",
              "  0.6672831177711487,\n",
              "  0.6754702925682068,\n",
              "  0.6780143976211548,\n",
              "  0.6621540188789368,\n",
              "  0.6232256889343262,\n",
              "  0.6609472036361694,\n",
              "  0.6341533064842224,\n",
              "  0.6736732125282288,\n",
              "  0.6286401748657227,\n",
              "  0.64033043384552,\n",
              "  0.6358235478401184,\n",
              "  0.6312232613563538,\n",
              "  0.6765949130058289,\n",
              "  0.5915956497192383,\n",
              "  0.5923181772232056,\n",
              "  0.635549008846283,\n",
              "  0.606099009513855,\n",
              "  0.6111796498298645,\n",
              "  0.579578697681427,\n",
              "  0.623467206954956,\n",
              "  0.5992143750190735,\n",
              "  0.5910212993621826,\n",
              "  0.625796914100647,\n",
              "  0.5880719423294067,\n",
              "  0.603044331073761,\n",
              "  0.5950217247009277,\n",
              "  0.5913348197937012,\n",
              "  0.6097012758255005,\n",
              "  0.6141069531440735,\n",
              "  0.5679662823677063,\n",
              "  0.5612630844116211,\n",
              "  0.5584321618080139,\n",
              "  0.5472538471221924,\n",
              "  0.5419692993164062,\n",
              "  0.5677465796470642,\n",
              "  0.5859516263008118,\n",
              "  0.5389743447303772,\n",
              "  0.5190301537513733,\n",
              "  0.5500006079673767,\n",
              "  0.49127620458602905,\n",
              "  0.5086821913719177,\n",
              "  0.5377380847930908,\n",
              "  0.47626179456710815,\n",
              "  0.5583658218383789,\n",
              "  0.5391401648521423,\n",
              "  0.5106602907180786,\n",
              "  0.5072402358055115,\n",
              "  0.4904824495315552,\n",
              "  0.5310162305831909,\n",
              "  0.4957652688026428,\n",
              "  0.5167511701583862,\n",
              "  0.49772909283638,\n",
              "  0.47215935587882996,\n",
              "  0.48835936188697815,\n",
              "  0.5187603831291199,\n",
              "  0.5383718609809875,\n",
              "  0.45145875215530396,\n",
              "  0.45542964339256287,\n",
              "  0.4701138138771057,\n",
              "  0.4144481122493744,\n",
              "  0.4106299877166748,\n",
              "  0.4241314232349396,\n",
              "  0.4419533312320709,\n",
              "  0.39789527654647827,\n",
              "  0.4076482057571411,\n",
              "  0.4774439334869385,\n",
              "  0.4384705424308777,\n",
              "  0.42724117636680603,\n",
              "  0.427887886762619,\n",
              "  0.4272617995738983,\n",
              "  0.4240485429763794,\n",
              "  0.4241052567958832,\n",
              "  0.42261436581611633,\n",
              "  0.3874969184398651,\n",
              "  0.42532017827033997,\n",
              "  0.4081455171108246,\n",
              "  0.4366198778152466],\n",
              " 'accuracy': [0.4219725430011749,\n",
              "  0.4656679034233093,\n",
              "  0.449438214302063,\n",
              "  0.4606741666793823,\n",
              "  0.5593008995056152,\n",
              "  0.47440698742866516,\n",
              "  0.5156055092811584,\n",
              "  0.5405742526054382,\n",
              "  0.5368289351463318,\n",
              "  0.574282169342041,\n",
              "  0.584269642829895,\n",
              "  0.5705368518829346,\n",
              "  0.5717852711677551,\n",
              "  0.607990026473999,\n",
              "  0.6092384457588196,\n",
              "  0.6092384457588196,\n",
              "  0.6092384457588196,\n",
              "  0.641697883605957,\n",
              "  0.6404494643211365,\n",
              "  0.6279650330543518,\n",
              "  0.6217228174209595,\n",
              "  0.6566791534423828,\n",
              "  0.6579275727272034,\n",
              "  0.6541822552680969,\n",
              "  0.6217228174209595,\n",
              "  0.6591760516166687,\n",
              "  0.6729088425636292,\n",
              "  0.6516854166984558,\n",
              "  0.6666666865348816,\n",
              "  0.670412003993988,\n",
              "  0.6916354298591614,\n",
              "  0.6729088425636292,\n",
              "  0.6579275727272034,\n",
              "  0.6729088425636292,\n",
              "  0.6741573214530945,\n",
              "  0.6903870105743408,\n",
              "  0.6903870105743408,\n",
              "  0.6903870105743408,\n",
              "  0.7141073942184448,\n",
              "  0.7203495502471924,\n",
              "  0.7103620767593384,\n",
              "  0.709113597869873,\n",
              "  0.7265917658805847,\n",
              "  0.7278401851654053,\n",
              "  0.7228464484214783,\n",
              "  0.7153558135032654,\n",
              "  0.7203495502471924,\n",
              "  0.7403246164321899,\n",
              "  0.7303370833396912,\n",
              "  0.7340824007987976,\n",
              "  0.7141073942184448,\n",
              "  0.7290886640548706,\n",
              "  0.750312089920044,\n",
              "  0.7453183531761169,\n",
              "  0.7465667724609375,\n",
              "  0.7253433465957642,\n",
              "  0.7702871561050415,\n",
              "  0.7640449404716492,\n",
              "  0.7440699338912964,\n",
              "  0.7640449404716492,\n",
              "  0.7665418386459351,\n",
              "  0.7690386772155762,\n",
              "  0.7478152513504028,\n",
              "  0.7465667724609375,\n",
              "  0.7615480422973633,\n",
              "  0.7403246164321899,\n",
              "  0.7690386772155762,\n",
              "  0.7777777910232544,\n",
              "  0.7652933597564697,\n",
              "  0.7578027248382568,\n",
              "  0.7553058862686157,\n",
              "  0.7515605688095093,\n",
              "  0.7665418386459351,\n",
              "  0.7627965211868286,\n",
              "  0.7752808928489685,\n",
              "  0.7952559590339661,\n",
              "  0.7852684259414673,\n",
              "  0.7815231084823608,\n",
              "  0.7665418386459351,\n",
              "  0.7890137434005737,\n",
              "  0.8039950132369995,\n",
              "  0.7915105819702148,\n",
              "  0.8189762830734253,\n",
              "  0.7777777910232544,\n",
              "  0.7902621626853943,\n",
              "  0.8102372288703918,\n",
              "  0.7815231084823608,\n",
              "  0.7865168452262878,\n",
              "  0.8114856481552124,\n",
              "  0.802746593952179,\n",
              "  0.8052434325218201,\n",
              "  0.7827715277671814,\n",
              "  0.7977527976036072,\n",
              "  0.802746593952179,\n",
              "  0.807740330696106,\n",
              "  0.8064919114112854,\n",
              "  0.8002496957778931,\n",
              "  0.802746593952179,\n",
              "  0.7940074801445007,\n",
              "  0.8339575529098511,\n",
              "  0.8227216005325317,\n",
              "  0.802746593952179,\n",
              "  0.8352059721946716,\n",
              "  0.8451935052871704,\n",
              "  0.8302122354507446,\n",
              "  0.8189762830734253,\n",
              "  0.836454451084137,\n",
              "  0.836454451084137,\n",
              "  0.8089887499809265,\n",
              "  0.8314606547355652,\n",
              "  0.8239700198173523,\n",
              "  0.8252184987068176,\n",
              "  0.836454451084137,\n",
              "  0.8314606547355652,\n",
              "  0.8389512896537781,\n",
              "  0.8401997685432434,\n",
              "  0.8389512896537781,\n",
              "  0.8439450860023499,\n",
              "  0.836454451084137,\n",
              "  0.8451935052871704],\n",
              " 'top-5-accuracy': [1.0,\n",
              "  1.0,\n",
              "  1.0,\n",
              "  1.0,\n",
              "  1.0,\n",
              "  1.0,\n",
              "  1.0,\n",
              "  1.0,\n",
              "  1.0,\n",
              "  1.0,\n",
              "  1.0,\n",
              "  1.0,\n",
              "  1.0,\n",
              "  1.0,\n",
              "  1.0,\n",
              "  1.0,\n",
              "  1.0,\n",
              "  1.0,\n",
              "  1.0,\n",
              "  1.0,\n",
              "  1.0,\n",
              "  1.0,\n",
              "  1.0,\n",
              "  1.0,\n",
              "  1.0,\n",
              "  1.0,\n",
              "  1.0,\n",
              "  1.0,\n",
              "  1.0,\n",
              "  1.0,\n",
              "  1.0,\n",
              "  1.0,\n",
              "  1.0,\n",
              "  1.0,\n",
              "  1.0,\n",
              "  1.0,\n",
              "  1.0,\n",
              "  1.0,\n",
              "  1.0,\n",
              "  1.0,\n",
              "  1.0,\n",
              "  1.0,\n",
              "  1.0,\n",
              "  1.0,\n",
              "  1.0,\n",
              "  1.0,\n",
              "  1.0,\n",
              "  1.0,\n",
              "  1.0,\n",
              "  1.0,\n",
              "  1.0,\n",
              "  1.0,\n",
              "  1.0,\n",
              "  1.0,\n",
              "  1.0,\n",
              "  1.0,\n",
              "  1.0,\n",
              "  1.0,\n",
              "  1.0,\n",
              "  1.0,\n",
              "  1.0,\n",
              "  1.0,\n",
              "  1.0,\n",
              "  1.0,\n",
              "  1.0,\n",
              "  1.0,\n",
              "  1.0,\n",
              "  1.0,\n",
              "  1.0,\n",
              "  1.0,\n",
              "  1.0,\n",
              "  1.0,\n",
              "  1.0,\n",
              "  1.0,\n",
              "  1.0,\n",
              "  1.0,\n",
              "  1.0,\n",
              "  1.0,\n",
              "  1.0,\n",
              "  1.0,\n",
              "  1.0,\n",
              "  1.0,\n",
              "  1.0,\n",
              "  1.0,\n",
              "  1.0,\n",
              "  1.0,\n",
              "  1.0,\n",
              "  1.0,\n",
              "  1.0,\n",
              "  1.0,\n",
              "  1.0,\n",
              "  1.0,\n",
              "  1.0,\n",
              "  1.0,\n",
              "  1.0,\n",
              "  1.0,\n",
              "  1.0,\n",
              "  1.0,\n",
              "  1.0,\n",
              "  1.0,\n",
              "  1.0,\n",
              "  1.0,\n",
              "  1.0,\n",
              "  1.0,\n",
              "  1.0,\n",
              "  1.0,\n",
              "  1.0,\n",
              "  1.0,\n",
              "  1.0,\n",
              "  1.0,\n",
              "  1.0,\n",
              "  1.0,\n",
              "  1.0,\n",
              "  1.0,\n",
              "  1.0,\n",
              "  1.0,\n",
              "  1.0,\n",
              "  1.0,\n",
              "  1.0,\n",
              "  1.0],\n",
              " 'val_loss': [0.9637022614479065,\n",
              "  2.7794432640075684,\n",
              "  1.3635278940200806,\n",
              "  1.1416829824447632,\n",
              "  0.9380403161048889,\n",
              "  1.002715826034546,\n",
              "  0.8294932246208191,\n",
              "  0.9029901027679443,\n",
              "  0.8403154015541077,\n",
              "  0.8174266219139099,\n",
              "  0.8559834361076355,\n",
              "  0.7353692054748535,\n",
              "  0.775707483291626,\n",
              "  0.8369397521018982,\n",
              "  0.737648606300354,\n",
              "  0.7041357755661011,\n",
              "  0.7453098297119141,\n",
              "  0.6947188377380371,\n",
              "  0.6851123571395874,\n",
              "  0.686424195766449,\n",
              "  0.6404914259910583,\n",
              "  0.6484816074371338,\n",
              "  0.6495839357376099,\n",
              "  0.6611658334732056,\n",
              "  0.6298877596855164,\n",
              "  0.6102502346038818,\n",
              "  0.6075845956802368,\n",
              "  0.6454614996910095,\n",
              "  0.6190106868743896,\n",
              "  0.5973632335662842,\n",
              "  0.5531262755393982,\n",
              "  0.5336257219314575,\n",
              "  0.5866883993148804,\n",
              "  0.5263252854347229,\n",
              "  0.5294141173362732,\n",
              "  0.5470771193504333,\n",
              "  0.49684834480285645,\n",
              "  0.48654311895370483,\n",
              "  0.49118539690971375,\n",
              "  0.4675368070602417,\n",
              "  0.4591163098812103,\n",
              "  0.45770880579948425,\n",
              "  0.46292799711227417,\n",
              "  0.45035985112190247,\n",
              "  0.4230330288410187,\n",
              "  0.42709866166114807,\n",
              "  0.4392716586589813,\n",
              "  0.422726035118103,\n",
              "  0.4263199269771576,\n",
              "  0.42811548709869385,\n",
              "  0.45171698927879333,\n",
              "  0.4303048253059387,\n",
              "  0.43812015652656555,\n",
              "  0.43181395530700684,\n",
              "  0.44116634130477905,\n",
              "  0.4173378348350525,\n",
              "  0.3805822730064392,\n",
              "  0.38707801699638367,\n",
              "  0.3526965379714966,\n",
              "  0.36431363224983215,\n",
              "  0.378726989030838,\n",
              "  0.37854695320129395,\n",
              "  0.40567153692245483,\n",
              "  0.4507756531238556,\n",
              "  0.4279725253582001,\n",
              "  0.41811466217041016,\n",
              "  0.4188840985298157,\n",
              "  0.40271976590156555,\n",
              "  0.4114299416542053,\n",
              "  0.42582282423973083,\n",
              "  0.4290837049484253,\n",
              "  0.40831178426742554,\n",
              "  0.41274043917655945,\n",
              "  0.3712434768676758,\n",
              "  0.34711557626724243,\n",
              "  0.34646713733673096,\n",
              "  0.37107905745506287,\n",
              "  0.3495030105113983,\n",
              "  0.3492301106452942,\n",
              "  0.3897090554237366,\n",
              "  0.38714274764060974,\n",
              "  0.3783489465713501,\n",
              "  0.3170322775840759,\n",
              "  0.3185570538043976,\n",
              "  0.33611905574798584,\n",
              "  0.33177250623703003,\n",
              "  0.3242936432361603,\n",
              "  0.3251290023326874,\n",
              "  0.3538753390312195,\n",
              "  0.3333633840084076,\n",
              "  0.3516820967197418,\n",
              "  0.33849743008613586,\n",
              "  0.3490513861179352,\n",
              "  0.3136357367038727,\n",
              "  0.32037776708602905,\n",
              "  0.32848408818244934,\n",
              "  0.3201928436756134,\n",
              "  0.30125612020492554,\n",
              "  0.30057916045188904,\n",
              "  0.3066004514694214,\n",
              "  0.3228585422039032,\n",
              "  0.31649506092071533,\n",
              "  0.285376638174057,\n",
              "  0.30218616127967834,\n",
              "  0.3293653726577759,\n",
              "  0.2680361568927765,\n",
              "  0.2647666335105896,\n",
              "  0.2864062786102295,\n",
              "  0.2733789384365082,\n",
              "  0.2825605273246765,\n",
              "  0.30651187896728516,\n",
              "  0.28065404295921326,\n",
              "  0.2827991843223572,\n",
              "  0.2796114385128021,\n",
              "  0.2727719843387604,\n",
              "  0.2577609717845917,\n",
              "  0.2377503216266632,\n",
              "  0.24245958030223846,\n",
              "  0.22666099667549133,\n",
              "  0.23881936073303223],\n",
              " 'val_accuracy': [0.47191011905670166,\n",
              "  0.49438202381134033,\n",
              "  0.42696627974510193,\n",
              "  0.47191011905670166,\n",
              "  0.4606741666793823,\n",
              "  0.483146071434021,\n",
              "  0.6741573214530945,\n",
              "  0.6404494643211365,\n",
              "  0.6516854166984558,\n",
              "  0.6853932738304138,\n",
              "  0.6629213690757751,\n",
              "  0.7865168452262878,\n",
              "  0.7977527976036072,\n",
              "  0.7865168452262878,\n",
              "  0.7640449404716492,\n",
              "  0.7640449404716492,\n",
              "  0.8202247023582458,\n",
              "  0.7977527976036072,\n",
              "  0.8089887499809265,\n",
              "  0.7865168452262878,\n",
              "  0.8202247023582458,\n",
              "  0.7415730357170105,\n",
              "  0.7977527976036072,\n",
              "  0.7640449404716492,\n",
              "  0.8314606547355652,\n",
              "  0.8202247023582458,\n",
              "  0.8202247023582458,\n",
              "  0.8089887499809265,\n",
              "  0.7865168452262878,\n",
              "  0.8202247023582458,\n",
              "  0.8089887499809265,\n",
              "  0.8651685118675232,\n",
              "  0.7752808928489685,\n",
              "  0.8426966071128845,\n",
              "  0.8426966071128845,\n",
              "  0.8202247023582458,\n",
              "  0.8764045238494873,\n",
              "  0.8426966071128845,\n",
              "  0.8539325594902039,\n",
              "  0.8539325594902039,\n",
              "  0.8651685118675232,\n",
              "  0.8539325594902039,\n",
              "  0.8426966071128845,\n",
              "  0.8314606547355652,\n",
              "  0.8314606547355652,\n",
              "  0.8314606547355652,\n",
              "  0.8426966071128845,\n",
              "  0.8651685118675232,\n",
              "  0.8651685118675232,\n",
              "  0.8314606547355652,\n",
              "  0.8764045238494873,\n",
              "  0.8651685118675232,\n",
              "  0.8539325594902039,\n",
              "  0.8651685118675232,\n",
              "  0.8314606547355652,\n",
              "  0.8426966071128845,\n",
              "  0.8764045238494873,\n",
              "  0.8539325594902039,\n",
              "  0.8651685118675232,\n",
              "  0.8539325594902039,\n",
              "  0.8539325594902039,\n",
              "  0.8539325594902039,\n",
              "  0.8764045238494873,\n",
              "  0.898876428604126,\n",
              "  0.8651685118675232,\n",
              "  0.8426966071128845,\n",
              "  0.8651685118675232,\n",
              "  0.8764045238494873,\n",
              "  0.8764045238494873,\n",
              "  0.8764045238494873,\n",
              "  0.8539325594902039,\n",
              "  0.8539325594902039,\n",
              "  0.8651685118675232,\n",
              "  0.898876428604126,\n",
              "  0.8876404762268066,\n",
              "  0.8764045238494873,\n",
              "  0.8764045238494873,\n",
              "  0.8764045238494873,\n",
              "  0.8876404762268066,\n",
              "  0.8539325594902039,\n",
              "  0.8539325594902039,\n",
              "  0.8764045238494873,\n",
              "  0.8876404762268066,\n",
              "  0.8764045238494873,\n",
              "  0.8651685118675232,\n",
              "  0.8876404762268066,\n",
              "  0.898876428604126,\n",
              "  0.8651685118675232,\n",
              "  0.8651685118675232,\n",
              "  0.8651685118675232,\n",
              "  0.8426966071128845,\n",
              "  0.9101123809814453,\n",
              "  0.8426966071128845,\n",
              "  0.898876428604126,\n",
              "  0.8651685118675232,\n",
              "  0.8651685118675232,\n",
              "  0.8764045238494873,\n",
              "  0.8876404762268066,\n",
              "  0.898876428604126,\n",
              "  0.9101123809814453,\n",
              "  0.8764045238494873,\n",
              "  0.8539325594902039,\n",
              "  0.8876404762268066,\n",
              "  0.8651685118675232,\n",
              "  0.8651685118675232,\n",
              "  0.9101123809814453,\n",
              "  0.8876404762268066,\n",
              "  0.9101123809814453,\n",
              "  0.932584285736084,\n",
              "  0.932584285736084,\n",
              "  0.8764045238494873,\n",
              "  0.9101123809814453,\n",
              "  0.8539325594902039,\n",
              "  0.8876404762268066,\n",
              "  0.898876428604126,\n",
              "  0.9213483333587646,\n",
              "  0.932584285736084,\n",
              "  0.9213483333587646,\n",
              "  0.932584285736084,\n",
              "  0.9550561904907227],\n",
              " 'val_top-5-accuracy': [1.0,\n",
              "  1.0,\n",
              "  1.0,\n",
              "  1.0,\n",
              "  1.0,\n",
              "  1.0,\n",
              "  1.0,\n",
              "  1.0,\n",
              "  1.0,\n",
              "  1.0,\n",
              "  1.0,\n",
              "  1.0,\n",
              "  1.0,\n",
              "  1.0,\n",
              "  1.0,\n",
              "  1.0,\n",
              "  1.0,\n",
              "  1.0,\n",
              "  1.0,\n",
              "  1.0,\n",
              "  1.0,\n",
              "  1.0,\n",
              "  1.0,\n",
              "  1.0,\n",
              "  1.0,\n",
              "  1.0,\n",
              "  1.0,\n",
              "  1.0,\n",
              "  1.0,\n",
              "  1.0,\n",
              "  1.0,\n",
              "  1.0,\n",
              "  1.0,\n",
              "  1.0,\n",
              "  1.0,\n",
              "  1.0,\n",
              "  1.0,\n",
              "  1.0,\n",
              "  1.0,\n",
              "  1.0,\n",
              "  1.0,\n",
              "  1.0,\n",
              "  1.0,\n",
              "  1.0,\n",
              "  1.0,\n",
              "  1.0,\n",
              "  1.0,\n",
              "  1.0,\n",
              "  1.0,\n",
              "  1.0,\n",
              "  1.0,\n",
              "  1.0,\n",
              "  1.0,\n",
              "  1.0,\n",
              "  1.0,\n",
              "  1.0,\n",
              "  1.0,\n",
              "  1.0,\n",
              "  1.0,\n",
              "  1.0,\n",
              "  1.0,\n",
              "  1.0,\n",
              "  1.0,\n",
              "  1.0,\n",
              "  1.0,\n",
              "  1.0,\n",
              "  1.0,\n",
              "  1.0,\n",
              "  1.0,\n",
              "  1.0,\n",
              "  1.0,\n",
              "  1.0,\n",
              "  1.0,\n",
              "  1.0,\n",
              "  1.0,\n",
              "  1.0,\n",
              "  1.0,\n",
              "  1.0,\n",
              "  1.0,\n",
              "  1.0,\n",
              "  1.0,\n",
              "  1.0,\n",
              "  1.0,\n",
              "  1.0,\n",
              "  1.0,\n",
              "  1.0,\n",
              "  1.0,\n",
              "  1.0,\n",
              "  1.0,\n",
              "  1.0,\n",
              "  1.0,\n",
              "  1.0,\n",
              "  1.0,\n",
              "  1.0,\n",
              "  1.0,\n",
              "  1.0,\n",
              "  1.0,\n",
              "  1.0,\n",
              "  1.0,\n",
              "  1.0,\n",
              "  1.0,\n",
              "  1.0,\n",
              "  1.0,\n",
              "  1.0,\n",
              "  1.0,\n",
              "  1.0,\n",
              "  1.0,\n",
              "  1.0,\n",
              "  1.0,\n",
              "  1.0,\n",
              "  1.0,\n",
              "  1.0,\n",
              "  1.0,\n",
              "  1.0,\n",
              "  1.0,\n",
              "  1.0,\n",
              "  1.0,\n",
              "  1.0,\n",
              "  1.0,\n",
              "  1.0]}"
            ]
          },
          "metadata": {},
          "execution_count": 24
        }
      ]
    },
    {
      "cell_type": "code",
      "source": [
        "import matplotlib.pyplot as plt\n",
        "\n",
        "loss_train = history.history['accuracy']\n",
        "loss_val = history.history['val_accuracy']\n",
        "epochs = range(0,num_epochs)\n",
        "plt.plot(epochs, loss_train, 'g', label='Training accuracy')\n",
        "#plt.plot(epochs, loss_val, 'b', label='validation accuracy')\n",
        "plt.title('Training and Validation accuracy')\n",
        "plt.xlabel('Epochs')\n",
        "plt.ylabel('Accuracy')\n",
        "plt.legend()\n",
        "plt.show()\n",
        "\n",
        "print('epochs: ',num_epochs,' heads: ',num_heads)"
      ],
      "metadata": {
        "id": "gC2bxNSOMAXT",
        "colab": {
          "base_uri": "https://localhost:8080/",
          "height": 489
        },
        "outputId": "7ab0432f-6177-409a-c312-750143cad6ec"
      },
      "execution_count": null,
      "outputs": [
        {
          "output_type": "display_data",
          "data": {
            "text/plain": [
              "<Figure size 640x480 with 1 Axes>"
            ],
            "image/png": "[encoded data removed]"
          },
          "metadata": {}
        },
        {
          "output_type": "stream",
          "name": "stdout",
          "text": [
            "epochs:  120  heads:  8\n"
          ]
        }
      ]
    },
    {
      "cell_type": "code",
      "source": [
        "plt.figure(figsize=[8,6])\n",
        "plt.plot(history.history['loss'],'r',linewidth=3.0)\n",
        "plt.plot(history.history['val_loss'],'b',linewidth=3.0)\n",
        "plt.legend(['Training loss', 'Validation Loss'],fontsize=18)\n",
        "plt.xlabel('Epochs ',fontsize=16)\n",
        "plt.ylabel('Loss',fontsize=16)\n",
        "plt.title('Loss Curves',fontsize=16)\n",
        "\n",
        "# Accuracy Curves\n",
        "plt.figure(figsize=[8,6])\n",
        "plt.plot(history.history['accuracy'],'r',linewidth=3.0)\n",
        "plt.plot(history.history['val_accuracy'],'b',linewidth=3.0)\n",
        "plt.legend(['Training Accuracy', 'Validation Accuracy'],fontsize=18)\n",
        "plt.xlabel('Epochs ',fontsize=16)\n",
        "plt.ylabel('Accuracy',fontsize=16)\n",
        "plt.title('Accuracy Curves',fontsize=16)\n",
        "\n",
        "print('epochs: ',num_epochs,' heads: ',num_heads)"
      ],
      "metadata": {
        "id": "gde92amIMKbU",
        "colab": {
          "base_uri": "https://localhost:8080/",
          "height": 1000
        },
        "outputId": "b8f7cb1c-f6a8-46f4-a33a-80d0147ef746"
      },
      "execution_count": null,
      "outputs": [
        {
          "output_type": "stream",
          "name": "stdout",
          "text": [
            "epochs:  120  heads:  8\n"
          ]
        },
        {
          "output_type": "display_data",
          "data": {
            "text/plain": [
              "<Figure size 800x600 with 1 Axes>"
            ],
            "image/png": "[encoded data removed]"
          },
          "metadata": {}
        },
        {
          "output_type": "display_data",
          "data": {
            "text/plain": [
              "<Figure size 800x600 with 1 Axes>"
            ],
            "image/png": "[encoded data removed]"
          },
          "metadata": {}
        }
      ]
    },
    {
      "cell_type": "code",
      "source": [
        "%ls"
      ],
      "metadata": {
        "colab": {
          "base_uri": "https://localhost:8080/"
        },
        "id": "ztAaYL0zbml1",
        "outputId": "c0bc998e-fd83-41bb-9e89-0b77306c42e6"
      },
      "execution_count": null,
      "outputs": [
        {
          "output_type": "stream",
          "name": "stdout",
          "text": [
            "\u001b[0m\u001b[01;34mdrive\u001b[0m/  \u001b[01;34msample_data\u001b[0m/\n"
          ]
        }
      ]
    },
    {
      "cell_type": "code",
      "source": [
        "vit_classifier.save_weights('drive/MyDrive/Sem7/ResearchPaper/savedmodel/vit_classifier')\n"
      ],
      "metadata": {
        "id": "7ATVXsgdwVmH"
      },
      "execution_count": null,
      "outputs": []
    },
    {
      "cell_type": "code",
      "source": [
        "vit_classifier.save('vit_model')"
      ],
      "metadata": {
        "colab": {
          "base_uri": "https://localhost:8080/"
        },
        "id": "uQIE7O580G5B",
        "outputId": "e21b72a6-aaa8-4084-c74c-d564306a9b59"
      },
      "execution_count": null,
      "outputs": [
        {
          "output_type": "stream",
          "name": "stderr",
          "text": [
            "WARNING:absl:Found untraced functions such as dense_layer_call_fn, dense_layer_call_and_return_conditional_losses, embedding_layer_call_fn, embedding_layer_call_and_return_conditional_losses, query_layer_call_fn while saving (showing 5 of 100). These functions will not be directly callable after loading.\n"
          ]
        }
      ]
    },
    {
      "cell_type": "code",
      "source": [],
      "metadata": {
        "id": "XYeRh0upUng-"
      },
      "execution_count": null,
      "outputs": []
    },
    {
      "cell_type": "code",
      "source": [
        "vit_model = create_vit_classifier()\n",
        "vit_model.load_weights('drive/MyDrive/Sem7/ResearchPaper/savedmodel/vit_classifier.h5')\n"
      ],
      "metadata": {
        "id": "eortBz3dlLKa"
      },
      "execution_count": null,
      "outputs": []
    },
    {
      "cell_type": "code",
      "source": [
        "# X_train, X_test, y_train, y_test = train_test_split(data, labels, test_size=0.2, random_state=0)\n",
        "print(y_test)\n",
        "x_outputs = vit_model.predict(data)\n"
      ],
      "metadata": {
        "colab": {
          "base_uri": "https://localhost:8080/"
        },
        "id": "F9vuEqWCdqub",
        "outputId": "00aa56a6-b392-4c7f-b60e-90f4a59e3b2b"
      },
      "execution_count": null,
      "outputs": [
        {
          "output_type": "stream",
          "name": "stdout",
          "text": [
            "[2 1 1 2 2 1 1 1 1 1 1 1 2 2 2 2 2 1 1 2 1 0 2 2 2 2 2 1 2 0 1 2 2 2 2 0 2\n",
            " 1 2 2 1 1 1 2 1 1 1 2 1 2 1 1 1 1 2 2 1 1 2 2 1 1 1 1 1 0 1 1 1 2 2 1 2 0\n",
            " 1 2 0 2 1 1 1 2 1 1 2 2 2 2 2 1 2 1 1 2 2 0 1 2 2 0 0 2 1 0 2 1 1 2 1 1 1\n",
            " 2 2 0 1 1 2 1 2 1 2 2 1 1 2 2 1 2 1 0 2 1 1 1 2 0 1 0 2 1 1 2 2 2 1 1 1 1\n",
            " 2 2 0 1 1 2 2 1 2 0 1 1 1 2 2 1 1 2 2 2 0 1 1 0 1 1 2 2 1 2 1 1 1 1 2 2 1\n",
            " 2 1 1 1 1 2 2 1 2 0 2 0 0 1 1 0 2 2 2 2 1 1 2 1 1 2 2 1 1 2 2 2 2 2 2 2 1\n",
            " 2]\n",
            "35/35 [==============================] - 2s 32ms/step\n"
          ]
        }
      ]
    },
    {
      "cell_type": "code",
      "source": [
        "X_test"
      ],
      "metadata": {
        "id": "wpeMfIF92yVx",
        "colab": {
          "base_uri": "https://localhost:8080/"
        },
        "outputId": "0ab1932e-16df-478e-aefe-2c90b248e9da"
      },
      "execution_count": null,
      "outputs": [
        {
          "output_type": "execute_result",
          "data": {
            "text/plain": [
              "array([[[[38, 38, 38],\n",
              "         [38, 38, 38],\n",
              "         [38, 38, 38],\n",
              "         ...,\n",
              "         [43, 43, 43],\n",
              "         [40, 40, 40],\n",
              "         [38, 38, 38]],\n",
              "\n",
              "        [[38, 38, 38],\n",
              "         [38, 38, 38],\n",
              "         [42, 42, 42],\n",
              "         ...,\n",
              "         [43, 43, 43],\n",
              "         [43, 43, 43],\n",
              "         [40, 40, 40]],\n",
              "\n",
              "        [[38, 38, 38],\n",
              "         [41, 41, 41],\n",
              "         [43, 43, 43],\n",
              "         ...,\n",
              "         [43, 43, 43],\n",
              "         [43, 43, 43],\n",
              "         [43, 43, 43]],\n",
              "\n",
              "        ...,\n",
              "\n",
              "        [[38, 38, 38],\n",
              "         [40, 40, 40],\n",
              "         [40, 40, 40],\n",
              "         ...,\n",
              "         [40, 40, 40],\n",
              "         [41, 41, 41],\n",
              "         [43, 43, 43]],\n",
              "\n",
              "        [[38, 38, 38],\n",
              "         [38, 38, 38],\n",
              "         [41, 41, 41],\n",
              "         ...,\n",
              "         [43, 43, 43],\n",
              "         [43, 43, 43],\n",
              "         [40, 40, 40]],\n",
              "\n",
              "        [[38, 38, 38],\n",
              "         [38, 38, 38],\n",
              "         [38, 38, 38],\n",
              "         ...,\n",
              "         [43, 43, 43],\n",
              "         [40, 40, 40],\n",
              "         [38, 38, 38]]],\n",
              "\n",
              "\n",
              "       [[[38, 38, 38],\n",
              "         [40, 40, 40],\n",
              "         [42, 42, 42],\n",
              "         ...,\n",
              "         [43, 43, 43],\n",
              "         [42, 42, 42],\n",
              "         [39, 39, 39]],\n",
              "\n",
              "        [[40, 40, 40],\n",
              "         [42, 42, 42],\n",
              "         [43, 43, 43],\n",
              "         ...,\n",
              "         [43, 43, 43],\n",
              "         [43, 43, 43],\n",
              "         [42, 42, 42]],\n",
              "\n",
              "        [[42, 42, 42],\n",
              "         [42, 42, 42],\n",
              "         [42, 42, 42],\n",
              "         ...,\n",
              "         [43, 43, 43],\n",
              "         [42, 42, 42],\n",
              "         [43, 43, 43]],\n",
              "\n",
              "        ...,\n",
              "\n",
              "        [[42, 42, 42],\n",
              "         [41, 41, 41],\n",
              "         [38, 38, 38],\n",
              "         ...,\n",
              "         [38, 38, 38],\n",
              "         [41, 41, 41],\n",
              "         [43, 43, 43]],\n",
              "\n",
              "        [[40, 40, 40],\n",
              "         [43, 43, 43],\n",
              "         [42, 42, 42],\n",
              "         ...,\n",
              "         [43, 43, 43],\n",
              "         [43, 43, 43],\n",
              "         [42, 42, 42]],\n",
              "\n",
              "        [[38, 38, 38],\n",
              "         [40, 40, 40],\n",
              "         [43, 43, 43],\n",
              "         ...,\n",
              "         [43, 43, 43],\n",
              "         [42, 42, 42],\n",
              "         [39, 39, 39]]],\n",
              "\n",
              "\n",
              "       [[[38, 38, 38],\n",
              "         [38, 38, 38],\n",
              "         [38, 38, 38],\n",
              "         ...,\n",
              "         [38, 38, 38],\n",
              "         [38, 38, 38],\n",
              "         [38, 38, 38]],\n",
              "\n",
              "        [[38, 38, 38],\n",
              "         [38, 38, 38],\n",
              "         [38, 38, 38],\n",
              "         ...,\n",
              "         [38, 38, 38],\n",
              "         [38, 38, 38],\n",
              "         [38, 38, 38]],\n",
              "\n",
              "        [[38, 38, 38],\n",
              "         [38, 38, 38],\n",
              "         [38, 38, 38],\n",
              "         ...,\n",
              "         [38, 38, 38],\n",
              "         [38, 38, 38],\n",
              "         [38, 38, 38]],\n",
              "\n",
              "        ...,\n",
              "\n",
              "        [[38, 38, 38],\n",
              "         [38, 38, 38],\n",
              "         [38, 38, 38],\n",
              "         ...,\n",
              "         [38, 38, 38],\n",
              "         [38, 38, 38],\n",
              "         [38, 38, 38]],\n",
              "\n",
              "        [[38, 38, 38],\n",
              "         [38, 38, 38],\n",
              "         [38, 38, 38],\n",
              "         ...,\n",
              "         [38, 38, 38],\n",
              "         [38, 38, 38],\n",
              "         [38, 38, 38]],\n",
              "\n",
              "        [[38, 38, 38],\n",
              "         [38, 38, 38],\n",
              "         [38, 38, 38],\n",
              "         ...,\n",
              "         [38, 38, 38],\n",
              "         [38, 38, 38],\n",
              "         [38, 38, 38]]],\n",
              "\n",
              "\n",
              "       ...,\n",
              "\n",
              "\n",
              "       [[[38, 38, 38],\n",
              "         [38, 38, 38],\n",
              "         [38, 38, 38],\n",
              "         ...,\n",
              "         [38, 38, 38],\n",
              "         [38, 38, 38],\n",
              "         [38, 38, 38]],\n",
              "\n",
              "        [[38, 38, 38],\n",
              "         [38, 38, 38],\n",
              "         [38, 38, 38],\n",
              "         ...,\n",
              "         [38, 38, 38],\n",
              "         [38, 38, 38],\n",
              "         [38, 38, 38]],\n",
              "\n",
              "        [[38, 38, 38],\n",
              "         [38, 38, 38],\n",
              "         [39, 39, 39],\n",
              "         ...,\n",
              "         [39, 39, 39],\n",
              "         [38, 38, 38],\n",
              "         [38, 38, 38]],\n",
              "\n",
              "        ...,\n",
              "\n",
              "        [[38, 38, 38],\n",
              "         [38, 38, 38],\n",
              "         [39, 39, 39],\n",
              "         ...,\n",
              "         [39, 39, 39],\n",
              "         [38, 38, 38],\n",
              "         [38, 38, 38]],\n",
              "\n",
              "        [[38, 38, 38],\n",
              "         [38, 38, 38],\n",
              "         [38, 38, 38],\n",
              "         ...,\n",
              "         [38, 38, 38],\n",
              "         [38, 38, 38],\n",
              "         [38, 38, 38]],\n",
              "\n",
              "        [[38, 38, 38],\n",
              "         [38, 38, 38],\n",
              "         [38, 38, 38],\n",
              "         ...,\n",
              "         [38, 38, 38],\n",
              "         [38, 38, 38],\n",
              "         [38, 38, 38]]],\n",
              "\n",
              "\n",
              "       [[[38, 38, 38],\n",
              "         [38, 38, 38],\n",
              "         [38, 38, 38],\n",
              "         ...,\n",
              "         [38, 38, 38],\n",
              "         [38, 38, 38],\n",
              "         [38, 38, 38]],\n",
              "\n",
              "        [[38, 38, 38],\n",
              "         [38, 38, 38],\n",
              "         [38, 38, 38],\n",
              "         ...,\n",
              "         [38, 38, 38],\n",
              "         [38, 38, 38],\n",
              "         [38, 38, 38]],\n",
              "\n",
              "        [[38, 38, 38],\n",
              "         [38, 38, 38],\n",
              "         [38, 38, 38],\n",
              "         ...,\n",
              "         [38, 38, 38],\n",
              "         [38, 38, 38],\n",
              "         [38, 38, 38]],\n",
              "\n",
              "        ...,\n",
              "\n",
              "        [[38, 38, 38],\n",
              "         [38, 38, 38],\n",
              "         [38, 38, 38],\n",
              "         ...,\n",
              "         [39, 39, 39],\n",
              "         [38, 38, 38],\n",
              "         [38, 38, 38]],\n",
              "\n",
              "        [[38, 38, 38],\n",
              "         [38, 38, 38],\n",
              "         [38, 38, 38],\n",
              "         ...,\n",
              "         [38, 38, 38],\n",
              "         [38, 38, 38],\n",
              "         [38, 38, 38]],\n",
              "\n",
              "        [[38, 38, 38],\n",
              "         [38, 38, 38],\n",
              "         [38, 38, 38],\n",
              "         ...,\n",
              "         [38, 38, 38],\n",
              "         [38, 38, 38],\n",
              "         [38, 38, 38]]],\n",
              "\n",
              "\n",
              "       [[[38, 38, 38],\n",
              "         [38, 38, 38],\n",
              "         [38, 38, 38],\n",
              "         ...,\n",
              "         [43, 43, 43],\n",
              "         [40, 40, 40],\n",
              "         [38, 38, 38]],\n",
              "\n",
              "        [[38, 38, 38],\n",
              "         [38, 38, 38],\n",
              "         [41, 41, 41],\n",
              "         ...,\n",
              "         [43, 43, 43],\n",
              "         [43, 43, 43],\n",
              "         [40, 40, 40]],\n",
              "\n",
              "        [[38, 38, 38],\n",
              "         [41, 41, 41],\n",
              "         [43, 43, 43],\n",
              "         ...,\n",
              "         [43, 43, 43],\n",
              "         [43, 43, 43],\n",
              "         [43, 43, 43]],\n",
              "\n",
              "        ...,\n",
              "\n",
              "        [[38, 38, 38],\n",
              "         [41, 41, 41],\n",
              "         [40, 40, 40],\n",
              "         ...,\n",
              "         [40, 40, 40],\n",
              "         [41, 41, 41],\n",
              "         [43, 43, 43]],\n",
              "\n",
              "        [[38, 38, 38],\n",
              "         [38, 38, 38],\n",
              "         [41, 41, 41],\n",
              "         ...,\n",
              "         [43, 43, 43],\n",
              "         [43, 43, 43],\n",
              "         [40, 40, 40]],\n",
              "\n",
              "        [[38, 38, 38],\n",
              "         [38, 38, 38],\n",
              "         [38, 38, 38],\n",
              "         ...,\n",
              "         [43, 43, 43],\n",
              "         [40, 40, 40],\n",
              "         [38, 38, 38]]]], dtype=uint8)"
            ]
          },
          "metadata": {},
          "execution_count": 32
        }
      ]
    },
    {
      "cell_type": "code",
      "source": [
        "import seaborn as sns\n"
      ],
      "metadata": {
        "id": "vArOmWOTZrPW"
      },
      "execution_count": null,
      "outputs": []
    },
    {
      "cell_type": "code",
      "source": [
        "predicted_values = []\n",
        "\n",
        "for i in x_outputs:\n",
        "    predicted_values.append(i.argmax(axis=0))\n",
        "\n"
      ],
      "metadata": {
        "id": "mV8w48MQ5t7s"
      },
      "execution_count": null,
      "outputs": []
    },
    {
      "cell_type": "code",
      "source": [
        "print(y_test.shape, x_outputs.shape)\n",
        "\n",
        "print(y_test)\n",
        "print(x_outputs)"
      ],
      "metadata": {
        "id": "ex0agqkJ3hkB",
        "colab": {
          "base_uri": "https://localhost:8080/"
        },
        "outputId": "6240bb15-fbfb-4fab-aa38-47698dd3573e"
      },
      "execution_count": null,
      "outputs": [
        {
          "output_type": "stream",
          "name": "stdout",
          "text": [
            "(223,) (1113, 3)\n",
            "[2 1 1 2 2 1 1 1 1 1 1 1 2 2 2 2 2 1 1 2 1 0 2 2 2 2 2 1 2 0 1 2 2 2 2 0 2\n",
            " 1 2 2 1 1 1 2 1 1 1 2 1 2 1 1 1 1 2 2 1 1 2 2 1 1 1 1 1 0 1 1 1 2 2 1 2 0\n",
            " 1 2 0 2 1 1 1 2 1 1 2 2 2 2 2 1 2 1 1 2 2 0 1 2 2 0 0 2 1 0 2 1 1 2 1 1 1\n",
            " 2 2 0 1 1 2 1 2 1 2 2 1 1 2 2 1 2 1 0 2 1 1 1 2 0 1 0 2 1 1 2 2 2 1 1 1 1\n",
            " 2 2 0 1 1 2 2 1 2 0 1 1 1 2 2 1 1 2 2 2 0 1 1 0 1 1 2 2 1 2 1 1 1 1 2 2 1\n",
            " 2 1 1 1 1 2 2 1 2 0 2 0 0 1 1 0 2 2 2 2 1 1 2 1 1 2 2 1 1 2 2 2 2 2 2 2 1\n",
            " 2]\n",
            "[[ 0.18934675 -0.28388667 -0.01533441]\n",
            " [ 0.1258638  -0.41035515  0.17000005]\n",
            " [ 3.1783988  -1.5051372  -1.7302843 ]\n",
            " ...\n",
            " [ 0.40944925 -2.0772438   2.9220755 ]\n",
            " [-2.9075978  -0.6803424   8.099008  ]\n",
            " [ 0.6030007  -0.54321796  0.40101647]]\n"
          ]
        }
      ]
    },
    {
      "cell_type": "code",
      "source": [
        "from sklearn.metrics import confusion_matrix, ConfusionMatrixDisplay\n",
        "\n",
        "# X_train, X_test, y_train, y_test = train_test_split(data, labels, test_size=0.2, random_state=0)\n",
        "\n",
        "# __label = ['benign', 'malignant', 'normal']\n",
        "\n",
        "cm = confusion_matrix(labels, predicted_values)\n",
        "\n",
        "print(cm)\n",
        "\n",
        "disp = ConfusionMatrixDisplay(cm,display_labels=['benign', 'malignant', 'normal'])\n",
        "disp.plot(xticks_rotation=45)"
      ],
      "metadata": {
        "colab": {
          "base_uri": "https://localhost:8080/",
          "height": 564
        },
        "id": "T8UP3h6NNuMq",
        "outputId": "9a39de48-647c-4c24-ed08-a14efe2d6593"
      },
      "execution_count": null,
      "outputs": [
        {
          "output_type": "stream",
          "name": "stdout",
          "text": [
            "[[ 61   7  52]\n",
            " [  2 554   5]\n",
            " [ 17   9 406]]\n"
          ]
        },
        {
          "output_type": "execute_result",
          "data": {
            "text/plain": [
              "<sklearn.metrics._plot.confusion_matrix.ConfusionMatrixDisplay at 0x7f45949e6880>"
            ]
          },
          "metadata": {},
          "execution_count": 36
        },
        {
          "output_type": "display_data",
          "data": {
            "text/plain": [
              "<Figure size 640x480 with 2 Axes>"
            ],
            "image/png": "[encoded data removed]"
          },
          "metadata": {}
        }
      ]
    },
    {
      "cell_type": "code",
      "source": [
        "print(cm)"
      ],
      "metadata": {
        "id": "CpAVKU1pN31k",
        "colab": {
          "base_uri": "https://localhost:8080/"
        },
        "outputId": "cce01837-fa9e-428c-94fe-e2da88f801b4"
      },
      "execution_count": null,
      "outputs": [
        {
          "output_type": "stream",
          "name": "stdout",
          "text": [
            "[[ 61   7  52]\n",
            " [  2 554   5]\n",
            " [ 17   9 406]]\n"
          ]
        }
      ]
    },
    {
      "cell_type": "code",
      "source": [
        "acc_matrix = []\n",
        "for i in cm:\n",
        "    tmp = []\n",
        "    for j in i:\n",
        "        tmp.append(j/sum(i))\n",
        "    acc_matrix.append(tmp)"
      ],
      "metadata": {
        "id": "jbuhyWTQFGSy"
      },
      "execution_count": null,
      "outputs": []
    },
    {
      "cell_type": "code",
      "source": [
        "print(np.matrix(acc_matrix))"
      ],
      "metadata": {
        "colab": {
          "base_uri": "https://localhost:8080/"
        },
        "id": "EC7n0rG1FPXw",
        "outputId": "c9d1cddb-4d51-41bd-9823-7cd80a6e5e6e"
      },
      "execution_count": null,
      "outputs": [
        {
          "output_type": "stream",
          "name": "stdout",
          "text": [
            "[[0.50833333 0.05833333 0.43333333]\n",
            " [0.00356506 0.98752228 0.00891266]\n",
            " [0.03935185 0.02083333 0.93981481]]\n"
          ]
        }
      ]
    },
    {
      "cell_type": "code",
      "source": [
        "# disp = ConfusionMatrixDisplay()\n",
        "disp = ConfusionMatrixDisplay(np.matrix(acc_matrix),display_labels=['benign', 'malignant', 'normal'])\n",
        "\n",
        "disp.plot(xticks_rotation=45)"
      ],
      "metadata": {
        "colab": {
          "base_uri": "https://localhost:8080/",
          "height": 512
        },
        "id": "8F0CqE_OF00H",
        "outputId": "a906a3b3-1a8d-4fef-ed7c-36ca1aa4ef36"
      },
      "execution_count": null,
      "outputs": [
        {
          "output_type": "execute_result",
          "data": {
            "text/plain": [
              "<sklearn.metrics._plot.confusion_matrix.ConfusionMatrixDisplay at 0x7f45949e69a0>"
            ]
          },
          "metadata": {},
          "execution_count": 40
        },
        {
          "output_type": "display_data",
          "data": {
            "text/plain": [
              "<Figure size 640x480 with 2 Axes>"
            ],
            "image/png": "[encoded data removed]"
          },
          "metadata": {}
        }
      ]
    }
  ]
}